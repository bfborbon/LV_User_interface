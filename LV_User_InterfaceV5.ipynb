{
  "cells": [
    {
      "cell_type": "markdown",
      "metadata": {
        "id": "X3X4WR4sw6DO"
      },
      "source": [
        "# User Interface Wireframe (Last Updated Version)"
      ]
    },
    {
      "cell_type": "markdown",
      "metadata": {
        "id": "MvYbkB8RO-c8"
      },
      "source": [
        "## **TEMPORARY**"
      ]
    },
    {
      "cell_type": "code",
      "execution_count": 2,
      "metadata": {},
      "outputs": [
        {
          "name": "stdout",
          "output_type": "stream",
          "text": [
            "Collecting pandas\n",
            "  Downloading pandas-2.2.2-cp311-cp311-win_amd64.whl.metadata (19 kB)\n",
            "Collecting numpy>=1.23.2 (from pandas)\n",
            "  Downloading numpy-1.26.4-cp311-cp311-win_amd64.whl.metadata (61 kB)\n",
            "     ---------------------------------------- 0.0/61.0 kB ? eta -:--:--\n",
            "     --------------------------------- ------ 51.2/61.0 kB 1.3 MB/s eta 0:00:01\n",
            "     ---------------------------------------- 61.0/61.0 kB 1.1 MB/s eta 0:00:00\n",
            "Requirement already satisfied: python-dateutil>=2.8.2 in c:\\users\\brend\\appdata\\local\\packages\\pythonsoftwarefoundation.python.3.11_qbz5n2kfra8p0\\localcache\\local-packages\\python311\\site-packages (from pandas) (2.9.0.post0)\n",
            "Collecting pytz>=2020.1 (from pandas)\n",
            "  Downloading pytz-2024.1-py2.py3-none-any.whl.metadata (22 kB)\n",
            "Collecting tzdata>=2022.7 (from pandas)\n",
            "  Downloading tzdata-2024.1-py2.py3-none-any.whl.metadata (1.4 kB)\n",
            "Requirement already satisfied: six>=1.5 in c:\\users\\brend\\appdata\\local\\packages\\pythonsoftwarefoundation.python.3.11_qbz5n2kfra8p0\\localcache\\local-packages\\python311\\site-packages (from python-dateutil>=2.8.2->pandas) (1.16.0)\n",
            "Downloading pandas-2.2.2-cp311-cp311-win_amd64.whl (11.6 MB)\n",
            "   ---------------------------------------- 0.0/11.6 MB ? eta -:--:--\n",
            "   - -------------------------------------- 0.5/11.6 MB 10.9 MB/s eta 0:00:02\n",
            "   --- ------------------------------------ 1.0/11.6 MB 10.9 MB/s eta 0:00:01\n",
            "   ----- ---------------------------------- 1.5/11.6 MB 12.1 MB/s eta 0:00:01\n",
            "   ------- -------------------------------- 2.1/11.6 MB 11.0 MB/s eta 0:00:01\n",
            "   -------- ------------------------------- 2.6/11.6 MB 11.8 MB/s eta 0:00:01\n",
            "   ---------- ----------------------------- 3.0/11.6 MB 11.4 MB/s eta 0:00:01\n",
            "   ------------ --------------------------- 3.5/11.6 MB 11.2 MB/s eta 0:00:01\n",
            "   ------------- -------------------------- 4.1/11.6 MB 11.3 MB/s eta 0:00:01\n",
            "   --------------- ------------------------ 4.5/11.6 MB 11.1 MB/s eta 0:00:01\n",
            "   ----------------- ---------------------- 5.0/11.6 MB 11.1 MB/s eta 0:00:01\n",
            "   ------------------ --------------------- 5.5/11.6 MB 10.9 MB/s eta 0:00:01\n",
            "   -------------------- ------------------- 6.0/11.6 MB 11.0 MB/s eta 0:00:01\n",
            "   ---------------------- ----------------- 6.5/11.6 MB 11.0 MB/s eta 0:00:01\n",
            "   ------------------------ --------------- 7.0/11.6 MB 10.9 MB/s eta 0:00:01\n",
            "   ------------------------- -------------- 7.5/11.6 MB 11.0 MB/s eta 0:00:01\n",
            "   --------------------------- ------------ 8.0/11.6 MB 10.9 MB/s eta 0:00:01\n",
            "   ----------------------------- ---------- 8.5/11.6 MB 10.9 MB/s eta 0:00:01\n",
            "   ------------------------------- -------- 9.0/11.6 MB 10.9 MB/s eta 0:00:01\n",
            "   -------------------------------- ------- 9.6/11.6 MB 10.9 MB/s eta 0:00:01\n",
            "   ---------------------------------- ----- 10.0/11.6 MB 10.9 MB/s eta 0:00:01\n",
            "   ------------------------------------ --- 10.6/11.6 MB 10.9 MB/s eta 0:00:01\n",
            "   -------------------------------------- - 11.1/11.6 MB 10.9 MB/s eta 0:00:01\n",
            "   ---------------------------------------  11.6/11.6 MB 10.9 MB/s eta 0:00:01\n",
            "   ---------------------------------------- 11.6/11.6 MB 10.4 MB/s eta 0:00:00\n",
            "Downloading numpy-1.26.4-cp311-cp311-win_amd64.whl (15.8 MB)\n",
            "   ---------------------------------------- 0.0/15.8 MB ? eta -:--:--\n",
            "   - -------------------------------------- 0.4/15.8 MB 8.7 MB/s eta 0:00:02\n",
            "   -- ------------------------------------- 0.9/15.8 MB 9.8 MB/s eta 0:00:02\n",
            "   --- ------------------------------------ 1.4/15.8 MB 11.3 MB/s eta 0:00:02\n",
            "   ---- ----------------------------------- 1.9/15.8 MB 10.0 MB/s eta 0:00:02\n",
            "   ------ --------------------------------- 2.4/15.8 MB 10.8 MB/s eta 0:00:02\n",
            "   ------- -------------------------------- 2.9/15.8 MB 10.7 MB/s eta 0:00:02\n",
            "   -------- ------------------------------- 3.3/15.8 MB 10.4 MB/s eta 0:00:02\n",
            "   --------- ------------------------------ 3.8/15.8 MB 10.5 MB/s eta 0:00:02\n",
            "   ---------- ----------------------------- 4.3/15.8 MB 10.6 MB/s eta 0:00:02\n",
            "   ------------ --------------------------- 4.8/15.8 MB 10.6 MB/s eta 0:00:02\n",
            "   ------------- -------------------------- 5.3/15.8 MB 10.6 MB/s eta 0:00:01\n",
            "   -------------- ------------------------- 5.8/15.8 MB 10.6 MB/s eta 0:00:01\n",
            "   --------------- ------------------------ 6.3/15.8 MB 10.6 MB/s eta 0:00:01\n",
            "   ----------------- ---------------------- 6.8/15.8 MB 10.6 MB/s eta 0:00:01\n",
            "   ------------------ --------------------- 7.4/15.8 MB 10.7 MB/s eta 0:00:01\n",
            "   ------------------- -------------------- 7.8/15.8 MB 10.6 MB/s eta 0:00:01\n",
            "   -------------------- ------------------- 8.3/15.8 MB 10.6 MB/s eta 0:00:01\n",
            "   ---------------------- ----------------- 8.8/15.8 MB 10.6 MB/s eta 0:00:01\n",
            "   ----------------------- ---------------- 9.3/15.8 MB 10.7 MB/s eta 0:00:01\n",
            "   ------------------------- -------------- 9.9/15.8 MB 10.7 MB/s eta 0:00:01\n",
            "   -------------------------- ------------- 10.4/15.8 MB 10.7 MB/s eta 0:00:01\n",
            "   --------------------------- ------------ 11.0/15.8 MB 10.7 MB/s eta 0:00:01\n",
            "   ----------------------------- ---------- 11.5/15.8 MB 10.9 MB/s eta 0:00:01\n",
            "   ------------------------------ --------- 12.0/15.8 MB 11.1 MB/s eta 0:00:01\n",
            "   ------------------------------- -------- 12.5/15.8 MB 11.1 MB/s eta 0:00:01\n",
            "   --------------------------------- ------ 13.1/15.8 MB 11.1 MB/s eta 0:00:01\n",
            "   ---------------------------------- ----- 13.6/15.8 MB 11.3 MB/s eta 0:00:01\n",
            "   ----------------------------------- ---- 14.2/15.8 MB 11.3 MB/s eta 0:00:01\n",
            "   ------------------------------------- -- 14.7/15.8 MB 11.3 MB/s eta 0:00:01\n",
            "   -------------------------------------- - 15.2/15.8 MB 11.3 MB/s eta 0:00:01\n",
            "   ---------------------------------------  15.7/15.8 MB 11.3 MB/s eta 0:00:01\n",
            "   ---------------------------------------- 15.8/15.8 MB 11.1 MB/s eta 0:00:00\n",
            "Downloading pytz-2024.1-py2.py3-none-any.whl (505 kB)\n",
            "   ---------------------------------------- 0.0/505.5 kB ? eta -:--:--\n",
            "   --------------------------------------  501.8/505.5 kB 15.9 MB/s eta 0:00:01\n",
            "   --------------------------------------- 505.5/505.5 kB 10.5 MB/s eta 0:00:00\n",
            "Downloading tzdata-2024.1-py2.py3-none-any.whl (345 kB)\n",
            "   ---------------------------------------- 0.0/345.4 kB ? eta -:--:--\n",
            "   ---------------------------------------- 345.4/345.4 kB 7.1 MB/s eta 0:00:00\n",
            "Installing collected packages: pytz, tzdata, numpy, pandas\n",
            "Successfully installed numpy-1.26.4 pandas-2.2.2 pytz-2024.1 tzdata-2024.1\n"
          ]
        }
      ],
      "source": [
        "!pip install pandas"
      ]
    },
    {
      "cell_type": "code",
      "execution_count": 3,
      "metadata": {},
      "outputs": [
        {
          "name": "stdout",
          "output_type": "stream",
          "text": [
            "Requirement already satisfied: numpy in c:\\users\\brend\\appdata\\local\\packages\\pythonsoftwarefoundation.python.3.11_qbz5n2kfra8p0\\localcache\\local-packages\\python311\\site-packages (1.26.4)\n"
          ]
        }
      ],
      "source": [
        "!pip install numpy"
      ]
    },
    {
      "cell_type": "code",
      "execution_count": 6,
      "metadata": {},
      "outputs": [
        {
          "name": "stdout",
          "output_type": "stream",
          "text": [
            "Collecting scikit-learn\n",
            "  Downloading scikit_learn-1.4.2-cp311-cp311-win_amd64.whl.metadata (11 kB)\n",
            "Requirement already satisfied: numpy>=1.19.5 in c:\\users\\brend\\appdata\\local\\packages\\pythonsoftwarefoundation.python.3.11_qbz5n2kfra8p0\\localcache\\local-packages\\python311\\site-packages (from scikit-learn) (1.26.4)\n",
            "Collecting scipy>=1.6.0 (from scikit-learn)\n",
            "  Downloading scipy-1.13.0-cp311-cp311-win_amd64.whl.metadata (60 kB)\n",
            "     ---------------------------------------- 0.0/60.6 kB ? eta -:--:--\n",
            "     --------------------------------- ------ 51.2/60.6 kB 1.3 MB/s eta 0:00:01\n",
            "     ---------------------------------------- 60.6/60.6 kB 1.1 MB/s eta 0:00:00\n",
            "Collecting joblib>=1.2.0 (from scikit-learn)\n",
            "  Downloading joblib-1.4.0-py3-none-any.whl.metadata (5.4 kB)\n",
            "Collecting threadpoolctl>=2.0.0 (from scikit-learn)\n",
            "  Downloading threadpoolctl-3.4.0-py3-none-any.whl.metadata (13 kB)\n",
            "Downloading scikit_learn-1.4.2-cp311-cp311-win_amd64.whl (10.6 MB)\n",
            "   ---------------------------------------- 0.0/10.6 MB ? eta -:--:--\n",
            "   - -------------------------------------- 0.4/10.6 MB 10.9 MB/s eta 0:00:01\n",
            "   --- ------------------------------------ 0.8/10.6 MB 10.6 MB/s eta 0:00:01\n",
            "   ----- ---------------------------------- 1.4/10.6 MB 10.7 MB/s eta 0:00:01\n",
            "   ------ --------------------------------- 1.8/10.6 MB 10.5 MB/s eta 0:00:01\n",
            "   -------- ------------------------------- 2.4/10.6 MB 10.8 MB/s eta 0:00:01\n",
            "   ---------- ----------------------------- 2.9/10.6 MB 10.8 MB/s eta 0:00:01\n",
            "   ------------ --------------------------- 3.4/10.6 MB 10.7 MB/s eta 0:00:01\n",
            "   -------------- ------------------------- 3.9/10.6 MB 10.9 MB/s eta 0:00:01\n",
            "   ---------------- ----------------------- 4.5/10.6 MB 11.0 MB/s eta 0:00:01\n",
            "   ------------------ --------------------- 5.0/10.6 MB 11.0 MB/s eta 0:00:01\n",
            "   -------------------- ------------------- 5.5/10.6 MB 11.0 MB/s eta 0:00:01\n",
            "   ---------------------- ----------------- 6.0/10.6 MB 11.0 MB/s eta 0:00:01\n",
            "   ------------------------ --------------- 6.6/10.6 MB 11.0 MB/s eta 0:00:01\n",
            "   -------------------------- ------------- 7.0/10.6 MB 11.0 MB/s eta 0:00:01\n",
            "   ---------------------------- ----------- 7.6/10.6 MB 11.0 MB/s eta 0:00:01\n",
            "   ------------------------------ --------- 8.1/10.6 MB 11.0 MB/s eta 0:00:01\n",
            "   -------------------------------- ------- 8.6/10.6 MB 11.0 MB/s eta 0:00:01\n",
            "   ---------------------------------- ----- 9.2/10.6 MB 11.0 MB/s eta 0:00:01\n",
            "   ------------------------------------ --- 9.7/10.6 MB 11.1 MB/s eta 0:00:01\n",
            "   -------------------------------------- - 10.2/10.6 MB 11.1 MB/s eta 0:00:01\n",
            "   ---------------------------------------  10.6/10.6 MB 11.1 MB/s eta 0:00:01\n",
            "   ---------------------------------------- 10.6/10.6 MB 11.1 MB/s eta 0:00:00\n",
            "Downloading joblib-1.4.0-py3-none-any.whl (301 kB)\n",
            "   ---------------------------------------- 0.0/301.2 kB ? eta -:--:--\n",
            "   ---------------------------------------- 301.2/301.2 kB 9.4 MB/s eta 0:00:00\n",
            "Downloading scipy-1.13.0-cp311-cp311-win_amd64.whl (46.2 MB)\n",
            "   ---------------------------------------- 0.0/46.2 MB ? eta -:--:--\n",
            "    --------------------------------------- 0.6/46.2 MB 12.2 MB/s eta 0:00:04\n",
            "    --------------------------------------- 1.1/46.2 MB 12.2 MB/s eta 0:00:04\n",
            "   - -------------------------------------- 1.6/46.2 MB 13.0 MB/s eta 0:00:04\n",
            "   - -------------------------------------- 2.2/46.2 MB 12.6 MB/s eta 0:00:04\n",
            "   -- ------------------------------------- 2.7/46.2 MB 11.7 MB/s eta 0:00:04\n",
            "   -- ------------------------------------- 3.3/46.2 MB 12.4 MB/s eta 0:00:04\n",
            "   --- ------------------------------------ 3.8/46.2 MB 12.1 MB/s eta 0:00:04\n",
            "   --- ------------------------------------ 4.3/46.2 MB 12.0 MB/s eta 0:00:04\n",
            "   ---- ----------------------------------- 4.9/46.2 MB 12.0 MB/s eta 0:00:04\n",
            "   ---- ----------------------------------- 5.4/46.2 MB 11.9 MB/s eta 0:00:04\n",
            "   ----- ---------------------------------- 5.9/46.2 MB 11.8 MB/s eta 0:00:04\n",
            "   ----- ---------------------------------- 6.4/46.2 MB 11.7 MB/s eta 0:00:04\n",
            "   ------ --------------------------------- 7.0/46.2 MB 11.7 MB/s eta 0:00:04\n",
            "   ------ --------------------------------- 7.4/46.2 MB 11.6 MB/s eta 0:00:04\n",
            "   ------ --------------------------------- 8.0/46.2 MB 11.6 MB/s eta 0:00:04\n",
            "   ------- -------------------------------- 8.5/46.2 MB 11.6 MB/s eta 0:00:04\n",
            "   ------- -------------------------------- 9.0/46.2 MB 11.5 MB/s eta 0:00:04\n",
            "   -------- ------------------------------- 9.6/46.2 MB 11.5 MB/s eta 0:00:04\n",
            "   -------- ------------------------------- 10.1/46.2 MB 11.5 MB/s eta 0:00:04\n",
            "   --------- ------------------------------ 10.6/46.2 MB 11.5 MB/s eta 0:00:04\n",
            "   --------- ------------------------------ 11.1/46.2 MB 11.3 MB/s eta 0:00:04\n",
            "   ---------- ----------------------------- 11.6/46.2 MB 11.3 MB/s eta 0:00:04\n",
            "   ---------- ----------------------------- 12.2/46.2 MB 11.3 MB/s eta 0:00:04\n",
            "   ---------- ----------------------------- 12.7/46.2 MB 11.3 MB/s eta 0:00:03\n",
            "   ----------- ---------------------------- 13.2/46.2 MB 11.3 MB/s eta 0:00:03\n",
            "   ----------- ---------------------------- 13.7/46.2 MB 11.3 MB/s eta 0:00:03\n",
            "   ------------ --------------------------- 14.3/46.2 MB 11.3 MB/s eta 0:00:03\n",
            "   ------------ --------------------------- 14.8/46.2 MB 11.1 MB/s eta 0:00:03\n",
            "   ------------- -------------------------- 15.3/46.2 MB 11.3 MB/s eta 0:00:03\n",
            "   ------------- -------------------------- 15.8/46.2 MB 11.3 MB/s eta 0:00:03\n",
            "   -------------- ------------------------- 16.4/46.2 MB 11.1 MB/s eta 0:00:03\n",
            "   -------------- ------------------------- 16.9/46.2 MB 11.3 MB/s eta 0:00:03\n",
            "   --------------- ------------------------ 17.4/46.2 MB 11.1 MB/s eta 0:00:03\n",
            "   --------------- ------------------------ 17.9/46.2 MB 11.5 MB/s eta 0:00:03\n",
            "   --------------- ------------------------ 18.5/46.2 MB 11.5 MB/s eta 0:00:03\n",
            "   ---------------- ----------------------- 19.0/46.2 MB 11.5 MB/s eta 0:00:03\n",
            "   ---------------- ----------------------- 19.5/46.2 MB 11.5 MB/s eta 0:00:03\n",
            "   ----------------- ---------------------- 20.0/46.2 MB 11.3 MB/s eta 0:00:03\n",
            "   ----------------- ---------------------- 20.6/46.2 MB 11.5 MB/s eta 0:00:03\n",
            "   ------------------ --------------------- 21.1/46.2 MB 11.5 MB/s eta 0:00:03\n",
            "   ------------------ --------------------- 21.6/46.2 MB 11.3 MB/s eta 0:00:03\n",
            "   ------------------- -------------------- 22.1/46.2 MB 11.3 MB/s eta 0:00:03\n",
            "   ------------------- -------------------- 22.7/46.2 MB 11.5 MB/s eta 0:00:03\n",
            "   -------------------- ------------------- 23.2/46.2 MB 11.5 MB/s eta 0:00:03\n",
            "   -------------------- ------------------- 23.8/46.2 MB 11.5 MB/s eta 0:00:02\n",
            "   --------------------- ------------------ 24.3/46.2 MB 11.5 MB/s eta 0:00:02\n",
            "   --------------------- ------------------ 24.8/46.2 MB 11.5 MB/s eta 0:00:02\n",
            "   --------------------- ------------------ 25.4/46.2 MB 11.5 MB/s eta 0:00:02\n",
            "   ---------------------- ----------------- 25.9/46.2 MB 11.5 MB/s eta 0:00:02\n",
            "   ---------------------- ----------------- 26.4/46.2 MB 11.5 MB/s eta 0:00:02\n",
            "   ----------------------- ---------------- 27.0/46.2 MB 11.5 MB/s eta 0:00:02\n",
            "   ----------------------- ---------------- 27.5/46.2 MB 11.5 MB/s eta 0:00:02\n",
            "   ------------------------ --------------- 28.1/46.2 MB 11.5 MB/s eta 0:00:02\n",
            "   ------------------------ --------------- 28.6/46.2 MB 11.7 MB/s eta 0:00:02\n",
            "   ------------------------- -------------- 29.2/46.2 MB 11.7 MB/s eta 0:00:02\n",
            "   ------------------------- -------------- 29.7/46.2 MB 11.7 MB/s eta 0:00:02\n",
            "   -------------------------- ------------- 30.3/46.2 MB 11.7 MB/s eta 0:00:02\n",
            "   -------------------------- ------------- 30.8/46.2 MB 11.7 MB/s eta 0:00:02\n",
            "   --------------------------- ------------ 31.3/46.2 MB 11.7 MB/s eta 0:00:02\n",
            "   --------------------------- ------------ 31.9/46.2 MB 11.9 MB/s eta 0:00:02\n",
            "   ---------------------------- ----------- 32.4/46.2 MB 11.7 MB/s eta 0:00:02\n",
            "   ---------------------------- ----------- 32.9/46.2 MB 11.7 MB/s eta 0:00:02\n",
            "   ---------------------------- ----------- 33.5/46.2 MB 11.7 MB/s eta 0:00:02\n",
            "   ----------------------------- ---------- 34.0/46.2 MB 11.7 MB/s eta 0:00:02\n",
            "   ----------------------------- ---------- 34.6/46.2 MB 11.7 MB/s eta 0:00:01\n",
            "   ------------------------------ --------- 35.1/46.2 MB 11.7 MB/s eta 0:00:01\n",
            "   ------------------------------ --------- 35.6/46.2 MB 11.7 MB/s eta 0:00:01\n",
            "   ------------------------------- -------- 36.2/46.2 MB 11.7 MB/s eta 0:00:01\n",
            "   ------------------------------- -------- 36.6/46.2 MB 11.7 MB/s eta 0:00:01\n",
            "   -------------------------------- ------- 37.0/46.2 MB 11.3 MB/s eta 0:00:01\n",
            "   -------------------------------- ------- 37.5/46.2 MB 11.3 MB/s eta 0:00:01\n",
            "   -------------------------------- ------- 38.0/46.2 MB 11.3 MB/s eta 0:00:01\n",
            "   --------------------------------- ------ 38.5/46.2 MB 11.5 MB/s eta 0:00:01\n",
            "   --------------------------------- ------ 39.1/46.2 MB 11.5 MB/s eta 0:00:01\n",
            "   ---------------------------------- ----- 39.6/46.2 MB 11.5 MB/s eta 0:00:01\n",
            "   ---------------------------------- ----- 40.2/46.2 MB 11.5 MB/s eta 0:00:01\n",
            "   ----------------------------------- ---- 40.7/46.2 MB 11.3 MB/s eta 0:00:01\n",
            "   ----------------------------------- ---- 41.2/46.2 MB 11.5 MB/s eta 0:00:01\n",
            "   ------------------------------------ --- 41.7/46.2 MB 11.3 MB/s eta 0:00:01\n",
            "   ------------------------------------ --- 42.3/46.2 MB 11.3 MB/s eta 0:00:01\n",
            "   ------------------------------------- -- 42.8/46.2 MB 11.3 MB/s eta 0:00:01\n",
            "   ------------------------------------- -- 43.3/46.2 MB 11.3 MB/s eta 0:00:01\n",
            "   -------------------------------------- - 43.9/46.2 MB 11.3 MB/s eta 0:00:01\n",
            "   -------------------------------------- - 44.4/46.2 MB 11.3 MB/s eta 0:00:01\n",
            "   -------------------------------------- - 45.0/46.2 MB 11.3 MB/s eta 0:00:01\n",
            "   ---------------------------------------  45.5/46.2 MB 11.3 MB/s eta 0:00:01\n",
            "   ---------------------------------------  46.1/46.2 MB 11.5 MB/s eta 0:00:01\n",
            "   ---------------------------------------  46.2/46.2 MB 11.5 MB/s eta 0:00:01\n",
            "   ---------------------------------------  46.2/46.2 MB 11.5 MB/s eta 0:00:01\n",
            "   ---------------------------------------  46.2/46.2 MB 11.5 MB/s eta 0:00:01\n",
            "   ---------------------------------------- 46.2/46.2 MB 9.6 MB/s eta 0:00:00\n",
            "Downloading threadpoolctl-3.4.0-py3-none-any.whl (17 kB)\n",
            "Installing collected packages: threadpoolctl, scipy, joblib, scikit-learn\n",
            "Successfully installed joblib-1.4.0 scikit-learn-1.4.2 scipy-1.13.0 threadpoolctl-3.4.0\n"
          ]
        }
      ],
      "source": [
        "!pip install scikit-learn"
      ]
    },
    {
      "cell_type": "code",
      "execution_count": 5,
      "metadata": {},
      "outputs": [
        {
          "name": "stdout",
          "output_type": "stream",
          "text": [
            "Collecting google.colab\n",
            "  Downloading google-colab-1.0.0.tar.gz (72 kB)\n",
            "     ---------------------------------------- 0.0/72.9 kB ? eta -:--:--\n",
            "     ---------- --------------------------- 20.5/72.9 kB 320.0 kB/s eta 0:00:01\n",
            "     -------------------------------------- 72.9/72.9 kB 803.1 kB/s eta 0:00:00\n",
            "  Installing build dependencies: started\n",
            "  Installing build dependencies: finished with status 'done'\n",
            "  Getting requirements to build wheel: started\n",
            "  Getting requirements to build wheel: finished with status 'done'\n",
            "  Installing backend dependencies: started\n",
            "  Installing backend dependencies: finished with status 'done'\n",
            "  Preparing metadata (pyproject.toml): started\n",
            "  Preparing metadata (pyproject.toml): finished with status 'done'\n",
            "Collecting google-auth~=1.4.0 (from google.colab)\n",
            "  Downloading google_auth-1.4.2-py2.py3-none-any.whl.metadata (3.0 kB)\n",
            "Collecting ipykernel~=4.6.0 (from google.colab)\n",
            "  Downloading ipykernel-4.6.1-py3-none-any.whl.metadata (981 bytes)\n",
            "Collecting ipython~=5.5.0 (from google.colab)\n",
            "  Downloading ipython-5.5.0-py3-none-any.whl.metadata (4.3 kB)\n",
            "Collecting notebook~=5.2.0 (from google.colab)\n",
            "  Downloading notebook-5.2.2-py2.py3-none-any.whl.metadata (1.8 kB)\n",
            "Collecting six~=1.12.0 (from google.colab)\n",
            "  Downloading six-1.12.0-py2.py3-none-any.whl.metadata (1.9 kB)\n",
            "Collecting pandas~=0.24.0 (from google.colab)\n",
            "  Downloading pandas-0.24.2.tar.gz (11.8 MB)\n",
            "     ---------------------------------------- 0.0/11.8 MB ? eta -:--:--\n",
            "     - -------------------------------------- 0.5/11.8 MB 10.0 MB/s eta 0:00:02\n",
            "     --- ------------------------------------ 1.0/11.8 MB 10.2 MB/s eta 0:00:02\n",
            "     ---- ----------------------------------- 1.5/11.8 MB 10.3 MB/s eta 0:00:02\n",
            "     ------ --------------------------------- 2.0/11.8 MB 10.5 MB/s eta 0:00:01\n",
            "     -------- ------------------------------- 2.5/11.8 MB 10.6 MB/s eta 0:00:01\n",
            "     ---------- ----------------------------- 3.0/11.8 MB 10.6 MB/s eta 0:00:01\n",
            "     ----------- ---------------------------- 3.5/11.8 MB 10.6 MB/s eta 0:00:01\n",
            "     ------------- -------------------------- 3.9/11.8 MB 10.8 MB/s eta 0:00:01\n",
            "     -------------- ------------------------- 4.4/11.8 MB 10.8 MB/s eta 0:00:01\n",
            "     ---------------- ----------------------- 4.9/11.8 MB 10.9 MB/s eta 0:00:01\n",
            "     ------------------ --------------------- 5.4/11.8 MB 10.9 MB/s eta 0:00:01\n",
            "     -------------------- ------------------- 6.0/11.8 MB 11.0 MB/s eta 0:00:01\n",
            "     ---------------------- ----------------- 6.6/11.8 MB 11.0 MB/s eta 0:00:01\n",
            "     ----------------------- ---------------- 7.1/11.8 MB 11.1 MB/s eta 0:00:01\n",
            "     ------------------------- -------------- 7.6/11.8 MB 11.1 MB/s eta 0:00:01\n",
            "     --------------------------- ------------ 8.2/11.8 MB 11.1 MB/s eta 0:00:01\n",
            "     ----------------------------- ---------- 8.7/11.8 MB 11.1 MB/s eta 0:00:01\n",
            "     ------------------------------- -------- 9.2/11.8 MB 11.1 MB/s eta 0:00:01\n",
            "     --------------------------------- ------ 9.8/11.8 MB 11.2 MB/s eta 0:00:01\n",
            "     --------------------------------- ----- 10.3/11.8 MB 11.3 MB/s eta 0:00:01\n",
            "     ----------------------------------- --- 10.8/11.8 MB 11.3 MB/s eta 0:00:01\n",
            "     ------------------------------------- - 11.3/11.8 MB 11.3 MB/s eta 0:00:01\n",
            "     --------------------------------------  11.8/11.8 MB 11.3 MB/s eta 0:00:01\n",
            "     --------------------------------------- 11.8/11.8 MB 11.1 MB/s eta 0:00:00\n",
            "  Installing build dependencies: started\n",
            "  Installing build dependencies: finished with status 'done'\n",
            "  Getting requirements to build wheel: started\n",
            "  Getting requirements to build wheel: finished with status 'done'\n",
            "  Installing backend dependencies: started\n",
            "  Installing backend dependencies: finished with status 'done'\n",
            "  Preparing metadata (pyproject.toml): started\n",
            "  Preparing metadata (pyproject.toml): finished with status 'error'\n"
          ]
        },
        {
          "name": "stderr",
          "output_type": "stream",
          "text": [
            "  error: subprocess-exited-with-error\n",
            "  \n",
            "  × Preparing metadata (pyproject.toml) did not run successfully.\n",
            "  │ exit code: 1\n",
            "  ╰─> [4 lines of output]\n",
            "      <string>:12: DeprecationWarning: pkg_resources is deprecated as an API. See https://setuptools.pypa.io/en/latest/pkg_resources.html\n",
            "      error in pandas setup command: 'install_requires' must be a string or list of strings containing valid project/version requirement specifiers; Expected end or semicolon (after version specifier)\n",
            "          pytz >= 2011k\n",
            "               ~~~~~~~^\n",
            "      [end of output]\n",
            "  \n",
            "  note: This error originates from a subprocess, and is likely not a problem with pip.\n",
            "error: metadata-generation-failed\n",
            "\n",
            "× Encountered error while generating package metadata.\n",
            "╰─> See above for output.\n",
            "\n",
            "note: This is an issue with the package mentioned above, not pip.\n",
            "hint: See above for details.\n"
          ]
        }
      ],
      "source": [
        "!pip install google.colab"
      ]
    },
    {
      "cell_type": "code",
      "execution_count": 7,
      "metadata": {
        "colab": {
          "base_uri": "https://localhost:8080/"
        },
        "id": "z1wkWHhtDjnJ",
        "outputId": "29ed4fde-54de-41ff-9a5a-9b4d216999af"
      },
      "outputs": [
        {
          "ename": "ModuleNotFoundError",
          "evalue": "No module named 'google'",
          "output_type": "error",
          "traceback": [
            "\u001b[1;31m---------------------------------------------------------------------------\u001b[0m",
            "\u001b[1;31mModuleNotFoundError\u001b[0m                       Traceback (most recent call last)",
            "Cell \u001b[1;32mIn[7], line 5\u001b[0m\n\u001b[0;32m      2\u001b[0m \u001b[38;5;28;01mimport\u001b[39;00m \u001b[38;5;21;01mnumpy\u001b[39;00m \u001b[38;5;28;01mas\u001b[39;00m \u001b[38;5;21;01mnp\u001b[39;00m\n\u001b[0;32m      3\u001b[0m \u001b[38;5;28;01mfrom\u001b[39;00m \u001b[38;5;21;01msklearn\u001b[39;00m\u001b[38;5;21;01m.\u001b[39;00m\u001b[38;5;21;01mpreprocessing\u001b[39;00m \u001b[38;5;28;01mimport\u001b[39;00m normalize\n\u001b[1;32m----> 5\u001b[0m \u001b[38;5;28;01mfrom\u001b[39;00m \u001b[38;5;21;01mgoogle\u001b[39;00m\u001b[38;5;21;01m.\u001b[39;00m\u001b[38;5;21;01mcolab\u001b[39;00m \u001b[38;5;28;01mimport\u001b[39;00m drive\n\u001b[0;32m      6\u001b[0m drive\u001b[38;5;241m.\u001b[39mmount(\u001b[38;5;124m'\u001b[39m\u001b[38;5;124m/content/drive\u001b[39m\u001b[38;5;124m'\u001b[39m)\n",
            "\u001b[1;31mModuleNotFoundError\u001b[0m: No module named 'google'"
          ]
        }
      ],
      "source": [
        "import pandas as pd\n",
        "import numpy as np\n",
        "from sklearn.preprocessing import normalize\n",
        "\n",
        "from google.colab import drive\n",
        "drive.mount('/content/drive')"
      ]
    },
    {
      "cell_type": "code",
      "execution_count": 4,
      "metadata": {
        "id": "av6xKOW7c5z8"
      },
      "outputs": [],
      "source": [
        "#Source: https://colab.research.google.com/drive/1qgCfMpnGA1gOQp5A3h4vVtic24qM3PRT?authuser=2#scrollTo=nNnQpa_rIrS-\n",
        "df_benchmarks = pd.read_csv('/content/drive/MyDrive/LV/LV User Interface/benchmark_dictionary_accesories.csv')"
      ]
    },
    {
      "cell_type": "code",
      "execution_count": 5,
      "metadata": {
        "id": "r9XgV_cWNKDH"
      },
      "outputs": [],
      "source": [
        "if 'Unnamed: 0' in df_benchmarks.columns:\n",
        "    df_benchmarks.drop(columns=['Unnamed: 0'], inplace=True)"
      ]
    },
    {
      "cell_type": "code",
      "execution_count": 6,
      "metadata": {
        "id": "MDWf9jBypov_"
      },
      "outputs": [],
      "source": [
        "#def format_image_url(url):\n",
        "#    return f'<img src=\"{url}\" style=\"width:100px; height:100px;\">'\n",
        "\n",
        "#df_benchmarks['URL_PICTURE'] = df_benchmarks['URL_PICTURE'].apply(format_image_url)\n",
        "df_benchmarks['URL_PICTURE'] = df_benchmarks['URL_PICTURE'].apply(lambda x: f\"![image]({x})\")"
      ]
    },
    {
      "cell_type": "code",
      "execution_count": null,
      "metadata": {
        "id": "n8-WqXXOL-sy"
      },
      "outputs": [],
      "source": [
        "#df_benchmarks.head()\n",
        "df_benchmarks.columns"
      ]
    },
    {
      "cell_type": "markdown",
      "metadata": {
        "id": "_zNUgHzk1esP"
      },
      "source": [
        "## Install Libraries"
      ]
    },
    {
      "cell_type": "code",
      "execution_count": 398,
      "metadata": {
        "colab": {
          "base_uri": "https://localhost:8080/"
        },
        "id": "dXsdHtVN6KCm",
        "outputId": "92e9440f-2c98-4d1d-8d3f-bdef80308028"
      },
      "outputs": [
        {
          "name": "stdout",
          "output_type": "stream",
          "text": [
            "Requirement already satisfied: dash_bootstrap_components in /usr/local/lib/python3.10/dist-packages (1.6.0)\n",
            "Requirement already satisfied: dash>=2.0.0 in /usr/local/lib/python3.10/dist-packages (from dash_bootstrap_components) (2.16.1)\n",
            "Requirement already satisfied: Flask<3.1,>=1.0.4 in /usr/local/lib/python3.10/dist-packages (from dash>=2.0.0->dash_bootstrap_components) (2.2.5)\n",
            "Requirement already satisfied: Werkzeug<3.1 in /usr/local/lib/python3.10/dist-packages (from dash>=2.0.0->dash_bootstrap_components) (3.0.2)\n",
            "Requirement already satisfied: plotly>=5.0.0 in /usr/local/lib/python3.10/dist-packages (from dash>=2.0.0->dash_bootstrap_components) (5.15.0)\n",
            "Requirement already satisfied: dash-html-components==2.0.0 in /usr/local/lib/python3.10/dist-packages (from dash>=2.0.0->dash_bootstrap_components) (2.0.0)\n",
            "Requirement already satisfied: dash-core-components==2.0.0 in /usr/local/lib/python3.10/dist-packages (from dash>=2.0.0->dash_bootstrap_components) (2.0.0)\n",
            "Requirement already satisfied: dash-table==5.0.0 in /usr/local/lib/python3.10/dist-packages (from dash>=2.0.0->dash_bootstrap_components) (5.0.0)\n",
            "Requirement already satisfied: importlib-metadata in /usr/local/lib/python3.10/dist-packages (from dash>=2.0.0->dash_bootstrap_components) (7.1.0)\n",
            "Requirement already satisfied: typing-extensions>=4.1.1 in /usr/local/lib/python3.10/dist-packages (from dash>=2.0.0->dash_bootstrap_components) (4.11.0)\n",
            "Requirement already satisfied: requests in /usr/local/lib/python3.10/dist-packages (from dash>=2.0.0->dash_bootstrap_components) (2.31.0)\n",
            "Requirement already satisfied: retrying in /usr/local/lib/python3.10/dist-packages (from dash>=2.0.0->dash_bootstrap_components) (1.3.4)\n",
            "Requirement already satisfied: nest-asyncio in /usr/local/lib/python3.10/dist-packages (from dash>=2.0.0->dash_bootstrap_components) (1.6.0)\n",
            "Requirement already satisfied: setuptools in /usr/local/lib/python3.10/dist-packages (from dash>=2.0.0->dash_bootstrap_components) (67.7.2)\n",
            "Requirement already satisfied: Jinja2>=3.0 in /usr/local/lib/python3.10/dist-packages (from Flask<3.1,>=1.0.4->dash>=2.0.0->dash_bootstrap_components) (3.1.3)\n",
            "Requirement already satisfied: itsdangerous>=2.0 in /usr/local/lib/python3.10/dist-packages (from Flask<3.1,>=1.0.4->dash>=2.0.0->dash_bootstrap_components) (2.2.0)\n",
            "Requirement already satisfied: click>=8.0 in /usr/local/lib/python3.10/dist-packages (from Flask<3.1,>=1.0.4->dash>=2.0.0->dash_bootstrap_components) (8.1.7)\n",
            "Requirement already satisfied: tenacity>=6.2.0 in /usr/local/lib/python3.10/dist-packages (from plotly>=5.0.0->dash>=2.0.0->dash_bootstrap_components) (8.2.3)\n",
            "Requirement already satisfied: packaging in /usr/local/lib/python3.10/dist-packages (from plotly>=5.0.0->dash>=2.0.0->dash_bootstrap_components) (24.0)\n",
            "Requirement already satisfied: MarkupSafe>=2.1.1 in /usr/local/lib/python3.10/dist-packages (from Werkzeug<3.1->dash>=2.0.0->dash_bootstrap_components) (2.1.5)\n",
            "Requirement already satisfied: zipp>=0.5 in /usr/local/lib/python3.10/dist-packages (from importlib-metadata->dash>=2.0.0->dash_bootstrap_components) (3.18.1)\n",
            "Requirement already satisfied: charset-normalizer<4,>=2 in /usr/local/lib/python3.10/dist-packages (from requests->dash>=2.0.0->dash_bootstrap_components) (3.3.2)\n",
            "Requirement already satisfied: idna<4,>=2.5 in /usr/local/lib/python3.10/dist-packages (from requests->dash>=2.0.0->dash_bootstrap_components) (3.7)\n",
            "Requirement already satisfied: urllib3<3,>=1.21.1 in /usr/local/lib/python3.10/dist-packages (from requests->dash>=2.0.0->dash_bootstrap_components) (2.0.7)\n",
            "Requirement already satisfied: certifi>=2017.4.17 in /usr/local/lib/python3.10/dist-packages (from requests->dash>=2.0.0->dash_bootstrap_components) (2024.2.2)\n",
            "Requirement already satisfied: six>=1.7.0 in /usr/local/lib/python3.10/dist-packages (from retrying->dash>=2.0.0->dash_bootstrap_components) (1.16.0)\n",
            "Requirement already satisfied: dash in /usr/local/lib/python3.10/dist-packages (2.16.1)\n",
            "Requirement already satisfied: Flask<3.1,>=1.0.4 in /usr/local/lib/python3.10/dist-packages (from dash) (2.2.5)\n",
            "Requirement already satisfied: Werkzeug<3.1 in /usr/local/lib/python3.10/dist-packages (from dash) (3.0.2)\n",
            "Requirement already satisfied: plotly>=5.0.0 in /usr/local/lib/python3.10/dist-packages (from dash) (5.15.0)\n",
            "Requirement already satisfied: dash-html-components==2.0.0 in /usr/local/lib/python3.10/dist-packages (from dash) (2.0.0)\n",
            "Requirement already satisfied: dash-core-components==2.0.0 in /usr/local/lib/python3.10/dist-packages (from dash) (2.0.0)\n",
            "Requirement already satisfied: dash-table==5.0.0 in /usr/local/lib/python3.10/dist-packages (from dash) (5.0.0)\n",
            "Requirement already satisfied: importlib-metadata in /usr/local/lib/python3.10/dist-packages (from dash) (7.1.0)\n",
            "Requirement already satisfied: typing-extensions>=4.1.1 in /usr/local/lib/python3.10/dist-packages (from dash) (4.11.0)\n",
            "Requirement already satisfied: requests in /usr/local/lib/python3.10/dist-packages (from dash) (2.31.0)\n",
            "Requirement already satisfied: retrying in /usr/local/lib/python3.10/dist-packages (from dash) (1.3.4)\n",
            "Requirement already satisfied: nest-asyncio in /usr/local/lib/python3.10/dist-packages (from dash) (1.6.0)\n",
            "Requirement already satisfied: setuptools in /usr/local/lib/python3.10/dist-packages (from dash) (67.7.2)\n",
            "Requirement already satisfied: Jinja2>=3.0 in /usr/local/lib/python3.10/dist-packages (from Flask<3.1,>=1.0.4->dash) (3.1.3)\n",
            "Requirement already satisfied: itsdangerous>=2.0 in /usr/local/lib/python3.10/dist-packages (from Flask<3.1,>=1.0.4->dash) (2.2.0)\n",
            "Requirement already satisfied: click>=8.0 in /usr/local/lib/python3.10/dist-packages (from Flask<3.1,>=1.0.4->dash) (8.1.7)\n",
            "Requirement already satisfied: tenacity>=6.2.0 in /usr/local/lib/python3.10/dist-packages (from plotly>=5.0.0->dash) (8.2.3)\n",
            "Requirement already satisfied: packaging in /usr/local/lib/python3.10/dist-packages (from plotly>=5.0.0->dash) (24.0)\n",
            "Requirement already satisfied: MarkupSafe>=2.1.1 in /usr/local/lib/python3.10/dist-packages (from Werkzeug<3.1->dash) (2.1.5)\n",
            "Requirement already satisfied: zipp>=0.5 in /usr/local/lib/python3.10/dist-packages (from importlib-metadata->dash) (3.18.1)\n",
            "Requirement already satisfied: charset-normalizer<4,>=2 in /usr/local/lib/python3.10/dist-packages (from requests->dash) (3.3.2)\n",
            "Requirement already satisfied: idna<4,>=2.5 in /usr/local/lib/python3.10/dist-packages (from requests->dash) (3.7)\n",
            "Requirement already satisfied: urllib3<3,>=1.21.1 in /usr/local/lib/python3.10/dist-packages (from requests->dash) (2.0.7)\n",
            "Requirement already satisfied: certifi>=2017.4.17 in /usr/local/lib/python3.10/dist-packages (from requests->dash) (2024.2.2)\n",
            "Requirement already satisfied: six>=1.7.0 in /usr/local/lib/python3.10/dist-packages (from retrying->dash) (1.16.0)\n",
            "Requirement already satisfied: dash in /usr/local/lib/python3.10/dist-packages (2.16.1)\n",
            "Requirement already satisfied: dash-mantine-components in /usr/local/lib/python3.10/dist-packages (0.14.1)\n",
            "Requirement already satisfied: dash-bootstrap-components in /usr/local/lib/python3.10/dist-packages (1.6.0)\n",
            "Requirement already satisfied: Flask<3.1,>=1.0.4 in /usr/local/lib/python3.10/dist-packages (from dash) (2.2.5)\n",
            "Requirement already satisfied: Werkzeug<3.1 in /usr/local/lib/python3.10/dist-packages (from dash) (3.0.2)\n",
            "Requirement already satisfied: plotly>=5.0.0 in /usr/local/lib/python3.10/dist-packages (from dash) (5.15.0)\n",
            "Requirement already satisfied: dash-html-components==2.0.0 in /usr/local/lib/python3.10/dist-packages (from dash) (2.0.0)\n",
            "Requirement already satisfied: dash-core-components==2.0.0 in /usr/local/lib/python3.10/dist-packages (from dash) (2.0.0)\n",
            "Requirement already satisfied: dash-table==5.0.0 in /usr/local/lib/python3.10/dist-packages (from dash) (5.0.0)\n",
            "Requirement already satisfied: importlib-metadata in /usr/local/lib/python3.10/dist-packages (from dash) (7.1.0)\n",
            "Requirement already satisfied: typing-extensions>=4.1.1 in /usr/local/lib/python3.10/dist-packages (from dash) (4.11.0)\n",
            "Requirement already satisfied: requests in /usr/local/lib/python3.10/dist-packages (from dash) (2.31.0)\n",
            "Requirement already satisfied: retrying in /usr/local/lib/python3.10/dist-packages (from dash) (1.3.4)\n",
            "Requirement already satisfied: nest-asyncio in /usr/local/lib/python3.10/dist-packages (from dash) (1.6.0)\n",
            "Requirement already satisfied: setuptools in /usr/local/lib/python3.10/dist-packages (from dash) (67.7.2)\n",
            "Requirement already satisfied: Jinja2>=3.0 in /usr/local/lib/python3.10/dist-packages (from Flask<3.1,>=1.0.4->dash) (3.1.3)\n",
            "Requirement already satisfied: itsdangerous>=2.0 in /usr/local/lib/python3.10/dist-packages (from Flask<3.1,>=1.0.4->dash) (2.2.0)\n",
            "Requirement already satisfied: click>=8.0 in /usr/local/lib/python3.10/dist-packages (from Flask<3.1,>=1.0.4->dash) (8.1.7)\n",
            "Requirement already satisfied: tenacity>=6.2.0 in /usr/local/lib/python3.10/dist-packages (from plotly>=5.0.0->dash) (8.2.3)\n",
            "Requirement already satisfied: packaging in /usr/local/lib/python3.10/dist-packages (from plotly>=5.0.0->dash) (24.0)\n",
            "Requirement already satisfied: MarkupSafe>=2.1.1 in /usr/local/lib/python3.10/dist-packages (from Werkzeug<3.1->dash) (2.1.5)\n",
            "Requirement already satisfied: zipp>=0.5 in /usr/local/lib/python3.10/dist-packages (from importlib-metadata->dash) (3.18.1)\n",
            "Requirement already satisfied: charset-normalizer<4,>=2 in /usr/local/lib/python3.10/dist-packages (from requests->dash) (3.3.2)\n",
            "Requirement already satisfied: idna<4,>=2.5 in /usr/local/lib/python3.10/dist-packages (from requests->dash) (3.7)\n",
            "Requirement already satisfied: urllib3<3,>=1.21.1 in /usr/local/lib/python3.10/dist-packages (from requests->dash) (2.0.7)\n",
            "Requirement already satisfied: certifi>=2017.4.17 in /usr/local/lib/python3.10/dist-packages (from requests->dash) (2024.2.2)\n",
            "Requirement already satisfied: six>=1.7.0 in /usr/local/lib/python3.10/dist-packages (from retrying->dash) (1.16.0)\n"
          ]
        }
      ],
      "source": [
        "!pip install dash_bootstrap_components\n",
        "!pip install dash\n",
        "!pip install dash dash-mantine-components dash-bootstrap-components"
      ]
    },
    {
      "cell_type": "code",
      "execution_count": 399,
      "metadata": {
        "id": "shGoMw75gG-v"
      },
      "outputs": [],
      "source": [
        "import dash\n",
        "from dash.dependencies import Input, Output, State\n",
        "import dash_bootstrap_components as dbc\n",
        "from dash import dash_table, dcc, html, no_update\n",
        "import dash_mantine_components as dmc\n",
        "import dash_bootstrap_components as dbc\n",
        "from dash.exceptions import PreventUpdate\n",
        "import numpy as np\n",
        "import pandas as pd\n",
        "import base64\n",
        "import io"
      ]
    },
    {
      "cell_type": "markdown",
      "metadata": {
        "id": "EAuaNaEzS5Z7"
      },
      "source": [
        "## Initialize the Dash App"
      ]
    },
    {
      "cell_type": "code",
      "execution_count": 400,
      "metadata": {
        "id": "CsPqn8_3S1s4"
      },
      "outputs": [],
      "source": [
        "# Initialize the Dash app with Bootstrap for styling\n",
        "app = dash.Dash(__name__, suppress_callback_exceptions=True, external_stylesheets=[dbc.themes.BOOTSTRAP])\n",
        "app.server.config['MAX_CONTENT_LENGTH'] = 100 * 1024 * 1024  # 100 MB limit"
      ]
    },
    {
      "cell_type": "markdown",
      "metadata": {
        "id": "o6zQGpkDTGIs"
      },
      "source": [
        "## Define Layout"
      ]
    },
    {
      "cell_type": "markdown",
      "metadata": {
        "id": "PnVV2CU2qgEo"
      },
      "source": [
        "### Upload Component"
      ]
    },
    {
      "cell_type": "code",
      "execution_count": 401,
      "metadata": {
        "id": "RvVi82h9qooo"
      },
      "outputs": [],
      "source": [
        "upload_component = dcc.Upload(\n",
        "            id='upload-bible',\n",
        "            children=html.Div(['Drag and Drop or ', html.A('Select Files')]),\n",
        "            style={\n",
        "                'width': '100%',\n",
        "                'height': '60px',\n",
        "                'lineHeight': '60px',\n",
        "                'borderWidth': '1px',\n",
        "                'borderStyle': 'dashed',\n",
        "                'borderRadius': '5px',\n",
        "                'textAlign': 'center',\n",
        "                'marginBottom': '20px',\n",
        "            },\n",
        "            # Allow multiple files to be uploaded\n",
        "            multiple=False\n",
        "        )\n",
        "\n",
        "# Define a placeholder for the upload preview\n",
        "upload_preview = html.Div(id='output-upload')\n",
        "\n",
        "# Wrap the upload component and the preview in a Loading component\n",
        "loading_upload = dcc.Loading(\n",
        "    id=\"loading-upload\",\n",
        "    children=[upload_component, upload_preview],\n",
        "    type=\"circle\",  # Other types: \"graph\", \"cube\", \"dot\", \"default\"\n",
        "    fullscreen=False,  # True if you want it to be fullscreen\n",
        "    color=\"#119DFF\"  # Color of the spinner\n",
        ")"
      ]
    },
    {
      "cell_type": "markdown",
      "metadata": {
        "id": "0phAouvWVHXr"
      },
      "source": [
        "### Dropdown"
      ]
    },
    {
      "cell_type": "code",
      "execution_count": 402,
      "metadata": {
        "id": "8_JRDsYgWjgn"
      },
      "outputs": [],
      "source": [
        "category_dropdown = dcc.Dropdown(id='category-dropdown', placeholder=\"Select a product category\")"
      ]
    },
    {
      "cell_type": "code",
      "execution_count": 403,
      "metadata": {
        "id": "9LTOJq9OWidW"
      },
      "outputs": [],
      "source": [
        "sku_dropdown = dcc.Dropdown(id='sku-dropdown', placeholder=\"Select a SKU\")"
      ]
    },
    {
      "cell_type": "markdown",
      "metadata": {
        "id": "TbZa5p-nUvpm"
      },
      "source": [
        "### Main Content Area: Displaying Selected SKU Details Card"
      ]
    },
    {
      "cell_type": "code",
      "execution_count": 404,
      "metadata": {
        "id": "8l-0EYVzUu2U"
      },
      "outputs": [],
      "source": [
        "# Function to create a card for the reference SKU with an image\n",
        "def create_sku_details_card(sku_info):\n",
        "    # Assuming 'URL_PICTURE' is the column name for the image URLs\n",
        "    img_url = sku_info.get('URL_PICTURE', 'https://via.placeholder.com/150')\n",
        "    return dbc.Card(\n",
        "        [\n",
        "            dbc.CardImg(src=img_url, top=True, style={'width': '100%', 'height': 'auto'}),\n",
        "            dbc.CardBody([\n",
        "                html.H5(\"Reference SKU Details\", className=\"card-title\"),\n",
        "                html.P(f\"SKU: {sku_info.get('SKU', 'N/A')}\"),\n",
        "                html.P(f\"Family: {sku_info.get('FAMILY', 'N/A')}\"),\n",
        "                html.P(f\"Sub Family: {sku_info.get('SUB_FAMILY', 'N/A')}\"),\n",
        "                html.P(f\"Main Color: {sku_info.get('MAIN_COLOR', 'N/A')}\"),\n",
        "                html.P(f\"Main Material: {sku_info.get('MAIN_MATERIAL', 'N/A')}\"),\n",
        "                html.P(f\"Model: {sku_info.get('MODEL', 'N/A')}\"),\n",
        "            ]),\n",
        "        ],\n",
        "        className=\"mb-3\",\n",
        "    )"
      ]
    },
    {
      "cell_type": "markdown",
      "metadata": {
        "id": "znIxPBDCU9vR"
      },
      "source": [
        "### Model Output Table"
      ]
    },
    {
      "cell_type": "code",
      "execution_count": 405,
      "metadata": {
        "id": "HoOJeQWrU9E7"
      },
      "outputs": [],
      "source": [
        "# Define the column structure for the DataTable\n",
        "benchmark_details_columns = [\n",
        "    {'name': 'SKU ↑↓', 'id': 'SKU','presentation': 'markdown'},  # SKU of the benchmark item\n",
        "    {\n",
        "        'name': 'URL Picture',\n",
        "        'id': 'URL_PICTURE',\n",
        "        'presentation': 'markdown',  # Enable Markdown rendering\n",
        "        'type': 'text'  # Ensure the content is treated as text\n",
        "    },\n",
        "    {'name': 'Season ↑↓', 'id': 'SEASON','presentation': 'markdown'},  # Season information for the benchmark items\n",
        "    {'name': 'Main Color ↑↓', 'id': 'MAIN_COLOR','presentation': 'markdown'},  # Main color of the benchmark items\n",
        "    {'name': 'Similarity Score ↑↓', 'id': 'Similarity Score','presentation': 'markdown'}  # Similarity score from the model\n",
        "]\n",
        "\n",
        "# Create a Dash DataTable to display the benchmarks\n",
        "benchmark_details_table = dash_table.DataTable(\n",
        "    id='benchmark-details-selected-sku-store',\n",
        "    columns=benchmark_details_columns,\n",
        "    data=[],  # Data will be populated by a callback\n",
        "    row_selectable='multi',  # Allow multiple rows to be selected\n",
        "    selected_rows=[],  # No rows selected by default\n",
        "    style_table={'overflowX': 'auto'},\n",
        "    style_cell={'textAlign': 'center', 'padding': '10px'},\n",
        "    style_header={'fontWeight': 'bold', 'backgroundColor': 'rgb(210, 210, 210)'},\n",
        "    page_size=10,  # Number of rows to display per page\n",
        "    markdown_options={'html': True},  # Allow HTML content in markdown cells\n",
        "    sort_action=\"native\",  # Enable native sorting of columns\n",
        "    filter_action=\"native\",  # Enable native column filtering\n",
        ")"
      ]
    },
    {
      "cell_type": "markdown",
      "metadata": {
        "id": "luTnhV_rq4cW"
      },
      "source": [
        "### Model Output Table Filters"
      ]
    },
    {
      "cell_type": "code",
      "execution_count": 406,
      "metadata": {
        "colab": {
          "base_uri": "https://localhost:8080/",
          "height": 128
        },
        "id": "blHQ-EWQq76H",
        "outputId": "a3e4ca0c-2e29-48ec-c0e8-b29de34db3df"
      },
      "outputs": [
        {
          "data": {
            "application/vnd.google.colaboratory.intrinsic+json": {
              "type": "string"
            },
            "text/plain": [
              "'\\nhtml.H3(\\'Filters\\', className=\\'display-4\\'),\\n        # Example filter for FAMILY\\n        dcc.Dropdown(\\n            id=\\'filter-family\\',\\n            value=\\'All\\',\\n            multi=True,\\n            placeholder=\"Select a Family\",\\n        ),\\n        # Additional filters can be added here\\n        dcc.Dropdown(\\n            id=\\'filter-sub_family\\',  # Placeholder options\\n            value=\\'All\\',\\n            multi=True,\\n            placeholder=\"Select a SubFamily\",\\n        ),\\n        dcc.Dropdown(\\n            id=\\'filter-model\\',  # Placeholder options\\n            value=\\'All\\',\\n            multi=True,\\n            placeholder=\"Select a Model\",\\n        ),\\n        dcc.Dropdown(\\n            id=\\'filter-main_material\\', # Placeholder options\\n            value=\\'All\\',\\n            multi=True,\\n            placeholder=\"Select a Main Material\",\\n        ),\\n        dcc.Dropdown(\\n            id=\\'filter-main_color\\',  # Placeholder options\\n            value=\\'All\\',\\n            multi=True,\\n            placeholder=\"Select a Main Color\",\\n        ),\\n        dcc.Dropdown(\\n            id=\\'filter-season\\',  # Placeholder options\\n            value=\\'All\\',\\n            multi=True,\\n            placeholder=\"Select a Season\",\\n        ),\\n\\n        '"
            ]
          },
          "execution_count": 406,
          "metadata": {},
          "output_type": "execute_result"
        }
      ],
      "source": [
        "'''\n",
        "html.H3('Filters', className='display-4'),\n",
        "        # Example filter for FAMILY\n",
        "        dcc.Dropdown(\n",
        "            id='filter-family',\n",
        "            value='All',\n",
        "            multi=True,\n",
        "            placeholder=\"Select a Family\",\n",
        "        ),\n",
        "        # Additional filters can be added here\n",
        "        dcc.Dropdown(\n",
        "            id='filter-sub_family',  # Placeholder options\n",
        "            value='All',\n",
        "            multi=True,\n",
        "            placeholder=\"Select a SubFamily\",\n",
        "        ),\n",
        "        dcc.Dropdown(\n",
        "            id='filter-model',  # Placeholder options\n",
        "            value='All',\n",
        "            multi=True,\n",
        "            placeholder=\"Select a Model\",\n",
        "        ),\n",
        "        dcc.Dropdown(\n",
        "            id='filter-main_material', # Placeholder options\n",
        "            value='All',\n",
        "            multi=True,\n",
        "            placeholder=\"Select a Main Material\",\n",
        "        ),\n",
        "        dcc.Dropdown(\n",
        "            id='filter-main_color',  # Placeholder options\n",
        "            value='All',\n",
        "            multi=True,\n",
        "            placeholder=\"Select a Main Color\",\n",
        "        ),\n",
        "        dcc.Dropdown(\n",
        "            id='filter-season',  # Placeholder options\n",
        "            value='All',\n",
        "            multi=True,\n",
        "            placeholder=\"Select a Season\",\n",
        "        ),\n",
        "\n",
        "        '''"
      ]
    },
    {
      "cell_type": "markdown",
      "metadata": {
        "id": "hIhIkekdiFhd"
      },
      "source": [
        "### Benchmarks Summary Table"
      ]
    },
    {
      "cell_type": "code",
      "execution_count": 407,
      "metadata": {
        "id": "nfjNRnt4iEZP"
      },
      "outputs": [],
      "source": [
        "# Define the columns for the benchmarks summary table\n",
        "benchmark_summary_columns = [\n",
        "    {'name': 'Reference SKU', 'id': 'Reference SKU'},\n",
        "    {'name': 'Number of Benchmarks Saved', 'id': 'Number of Benchmarks Saved'},\n",
        "    {'name': 'List of Benchmarks', 'id': 'List of Benchmarks'}\n",
        "]\n",
        "\n",
        "# Add a dash DataTable for displaying the summary of stored benchmarks\n",
        "benchmarks_summary_table = dash_table.DataTable(\n",
        "    id='benchmarks-summary-table',\n",
        "    columns=benchmark_summary_columns,\n",
        "    data=[],  # Initially empty, will be populated by callback\n",
        "    style_table={'overflowX': 'auto'},\n",
        "    style_cell={'textAlign': 'left', 'padding': '5px'},\n",
        "    style_header={'fontWeight': 'bold'}\n",
        ")\n"
      ]
    },
    {
      "cell_type": "markdown",
      "metadata": {
        "id": "SDI19pbMUJlC"
      },
      "source": [
        "### App Layout Assembly"
      ]
    },
    {
      "cell_type": "code",
      "execution_count": 408,
      "metadata": {
        "id": "K6bAbONWp8rP"
      },
      "outputs": [],
      "source": [
        "app.layout = dbc.Container(\n",
        "    [\n",
        "        # Header\n",
        "        dbc.Row(dbc.Col(html.H1(\"Product Benchmarking Dashboard\"), className=\"mb-4 mt-4\")),\n",
        "\n",
        "        # First Row with Upload and Filters\n",
        "        dbc.Row(\n",
        "            [\n",
        "                dbc.Col(loading_upload, width=6),\n",
        "            ],\n",
        "            className=\"mb-4\",\n",
        "        ),\n",
        "\n",
        "        #dbc.Row([dbc.Col(upload_preview, width=16), ],className=\"mb-4\",),  # Preview will be updated by callback\n",
        "\n",
        "        # Main content split into two columns\n",
        "        dbc.Row(\n",
        "            [\n",
        "                # Left Column (Sidebar)\n",
        "                dbc.Col(\n",
        "                    [\n",
        "                        # Sidebar Elements\n",
        "                        category_dropdown,  # Category dropdown\n",
        "                        sku_dropdown,  # SKU dropdown\n",
        "                        html.Div(id='sku-details-card'),  # Selected SKU details card\n",
        "                        benchmarks_summary_table,  # Summary table of saved benchmarks\n",
        "                        dbc.Button(\"Download Selected Benchmarks\", id=\"btn-download\", color=\"primary\", className=\"mb-3\"),\n",
        "                        dcc.Download(id=\"download-selected-data\"),\n",
        "                    ],\n",
        "                    width=4,  # Adjust width as per requirement\n",
        "                ),\n",
        "\n",
        "                # Right Column\n",
        "                dbc.Col(\n",
        "                    [\n",
        "                        # Filters and Benchmarks Table\n",
        "                        #html.Div(id='filters-container'),  # Container for filters\n",
        "                        benchmark_details_table,  # Benchmarks table (model outputs)\n",
        "                        dbc.Button(\"Save Benchmarks\", id=\"save-benchmarks-button\", color=\"primary\", className=\"mb-3\"),  # Save benchmarks button\n",
        "                    ],\n",
        "                    width=8,  # Adjust width as per requirement\n",
        "                ),\n",
        "            ],\n",
        "        ),\n",
        "\n",
        "        # Dynamic Components\n",
        "        #html.Div(id='output-upload'),\n",
        "        html.Div(id='selected-data'),\n",
        "        #html.Div(id='temporary-benchmarks-table'),\n",
        "\n",
        "        #Buttons\n",
        "\n",
        "        #html.Button(\"Save Benchmarks\", id=\"save-benchmarks-button\"),\n",
        "\n",
        "        #Store\n",
        "        dcc.Store(id='preprocessed-data'),\n",
        "        dcc.Store(id='original-activity-data'),\n",
        "        dcc.Store(id='selected-category-store'),\n",
        "        dcc.Store(id='selected-sku-store'),\n",
        "        dcc.Store(id='current-sku-store'),\n",
        "        dcc.Store(id='similarity-matrix-store'),\n",
        "        #dcc.Store(id='benchmark-details-selected-sku-store'),\n",
        "        dcc.Store(id='stored-selected-rows'),\n",
        "        dcc.Store(id='stored-benchmarks'),\n",
        "\n",
        "\n",
        "        # Download\n",
        "        #dcc.Download(id=\"download-selected-data\"),\n",
        "\n",
        "  ],\n",
        "    fluid=True,\n",
        ")"
      ]
    },
    {
      "cell_type": "markdown",
      "metadata": {
        "id": "IbsuzRqiRnWP"
      },
      "source": [
        "## Data Processing Funtion"
      ]
    },
    {
      "cell_type": "code",
      "execution_count": 409,
      "metadata": {
        "id": "CObgjuhuRq_p"
      },
      "outputs": [],
      "source": [
        "from datetime import datetime\n",
        "\n",
        "def preprocess_data(df):\n",
        "    # Assuming 'LAUNCHING_YEAR' is already a column or extracted from 'SEASONALITY'\n",
        "    current_year = datetime.now().year\n",
        "    cutoff_year = current_year - 3\n",
        "\n",
        "    # Define the specific seasons to include\n",
        "    seasons = ['ARCHIVE', 'CASQUE DAMIER', 'LV CUP', 'OLD', 'OLD PERMANENT',\n",
        "               'PERMANENT', 'PERMANENT WINTER', 'RTW FASHION', 'SPECIAL ORDER']\n",
        "\n",
        "    # Filter based on 'SEASONALITY' and launching year\n",
        "    df_filtered = df[(df['SEASONALITY'].isin(seasons)) & (df['LAUNCHING_YEAR'] >= cutoff_year)]\n",
        "\n",
        "    # Extracting and preprocessing 'REAL_MONTH' from 'LAUNCH_MONTH'\n",
        "    df['REAL_MONTH'] = df['LAUNCH_MONTH'].str[-2:].where(df['LAUNCH_MONTH'].notna())\n",
        "    df['REAL_MONTH'] = df['REAL_MONTH'].astype(float).astype('Int64').astype('object')  # Converting to object to treat as categorical\n",
        "\n",
        "    # Filling missing values for categorical columns with 'Unknown'\n",
        "    categorical_columns = ['FAMILY', 'GENDER', 'MACRO_AESTHETIC_LINE', 'MAIN_COLOR', 'MATERIAL_GROUP', 'SEASONALITY', 'REAL_MONTH', 'ACTIVITY']\n",
        "    for col in categorical_columns:\n",
        "        df[col] = df[col].fillna('Unknown')\n",
        "\n",
        "    # Handling numerical columns with specific logic, if there are any\n",
        "    # For example, 'LAUNCHING_YEAR'\n",
        "    df['LAUNCHING_YEAR'] = pd.to_numeric(df['LAUNCHING_YEAR'], errors='coerce').fillna(0).astype(int)\n",
        "\n",
        "    # Combining all relevant columns for the dashboard\n",
        "    model_columns = ['SKU', 'LAUNCHING_YEAR'] + categorical_columns + ['URL_PICTURE']\n",
        "    df_model = df[model_columns].copy()\n",
        "\n",
        "    return df_model\n",
        "\n",
        "# Integration with Dash callback for file upload remains the same\n"
      ]
    },
    {
      "cell_type": "markdown",
      "metadata": {
        "id": "8psAEaJPTqV7"
      },
      "source": [
        "## Callbacks"
      ]
    },
    {
      "cell_type": "markdown",
      "metadata": {
        "id": "CKtkCwrS6zgV"
      },
      "source": [
        "### Callback for File Upload and Data Preview"
      ]
    },
    {
      "cell_type": "code",
      "execution_count": 410,
      "metadata": {
        "id": "Xo3f_zLG62Lp"
      },
      "outputs": [],
      "source": [
        "@app.callback(\n",
        "    Output('output-upload', 'children'),\n",
        "    [Input('upload-bible', 'contents')],\n",
        "    [State('upload-bible', 'filename')]\n",
        ")\n",
        "def display_file_preview(contents, filename):\n",
        "    if contents is None:\n",
        "        return html.Div('No file uploaded yet.')\n",
        "\n",
        "    content_type, content_string = contents.split(',')\n",
        "    decoded = base64.b64decode(content_string)\n",
        "    try:\n",
        "        df = pd.read_csv(io.StringIO(decoded.decode('utf-8')), low_memory=False)\n",
        "        return html.Div([\n",
        "            html.H5(f\"File {filename} uploaded successfully\"),\n",
        "            dash_table.DataTable(\n",
        "                data=df.head().to_dict('records'),\n",
        "                columns=[{'name': i, 'id': i} for i in df.columns],\n",
        "                page_size=5,\n",
        "            )\n",
        "        ])\n",
        "    except Exception as e:\n",
        "        return html.Div([f'An error occurred while processing the file: {e}'])\n"
      ]
    },
    {
      "cell_type": "markdown",
      "metadata": {
        "id": "7C4ZskkPBsxv"
      },
      "source": [
        "### Callback for Data Preprocessing"
      ]
    },
    {
      "cell_type": "code",
      "execution_count": 411,
      "metadata": {
        "id": "2-e7b5GgK-cz"
      },
      "outputs": [],
      "source": [
        "@app.callback(\n",
        "    Output('preprocessed-data', 'data'),\n",
        "    [Input('upload-bible', 'contents')],\n",
        "    prevent_initial_call=True  # This ensures the callback only runs in response to user action, not on page load.\n",
        ")\n",
        "def process_uploaded_data(contents):\n",
        "    if contents is None:\n",
        "        raise PreventUpdate\n",
        "\n",
        "    content_type, content_string = contents.split(',')\n",
        "    decoded = base64.b64decode(content_string)\n",
        "    try:\n",
        "        df = pd.read_csv(io.StringIO(decoded.decode('utf-8')), low_memory=False)\n",
        "        df_preprocessed = preprocess_data(df)  # Ensure this function is robust and well-tested.\n",
        "        return df_preprocessed.to_dict('records')\n",
        "    except Exception as e:\n",
        "        # Ideally, use logging to capture these exceptions for further investigation.\n",
        "        print(\"Error during preprocessing:\", e)\n",
        "        return {}  # Return an empty dictionary on failure to process data."
      ]
    },
    {
      "cell_type": "markdown",
      "metadata": {
        "id": "aM5wvaNa7COc"
      },
      "source": [
        "###Callback for Category Dropdown Population"
      ]
    },
    {
      "cell_type": "code",
      "execution_count": 412,
      "metadata": {
        "id": "T45QceYt7G7X"
      },
      "outputs": [],
      "source": [
        "@app.callback(\n",
        "    [\n",
        "        Output('category-dropdown', 'options'),\n",
        "        Output('original-activity-data', 'data')\n",
        "    ],\n",
        "    [Input('preprocessed-data', 'data')]\n",
        ")\n",
        "def update_dropdown_options(preprocessed_data):\n",
        "    if not preprocessed_data:\n",
        "        raise PreventUpdate\n",
        "\n",
        "    df = pd.DataFrame(preprocessed_data)\n",
        "    category_options = [{'label': activity, 'value': activity} for activity in df['ACTIVITY'].unique()]\n",
        "    activity_data = df[['ACTIVITY', 'SKU']].drop_duplicates().to_dict('records')\n",
        "\n",
        "    return category_options, activity_data\n"
      ]
    },
    {
      "cell_type": "markdown",
      "metadata": {
        "id": "0tpdnYscqaXO"
      },
      "source": [
        "### Callback for Storing Category Selection"
      ]
    },
    {
      "cell_type": "code",
      "execution_count": 413,
      "metadata": {
        "id": "mQ_sUC6-qbIN"
      },
      "outputs": [],
      "source": [
        "@app.callback(\n",
        "    Output('selected-category-store', 'data'),  # Assumes a dcc.Store with this ID\n",
        "    [Input('category-dropdown', 'value')]\n",
        ")\n",
        "def store_selected_category(selected_category):\n",
        "    return {'selected_category': selected_category}"
      ]
    },
    {
      "cell_type": "markdown",
      "metadata": {
        "id": "SB2bPBKYa6iL"
      },
      "source": [
        "### Callback to Modify SKU Dropdown on Category Selection"
      ]
    },
    {
      "cell_type": "code",
      "execution_count": 414,
      "metadata": {
        "id": "2sznI1rWa5nY"
      },
      "outputs": [],
      "source": [
        "@app.callback(\n",
        "    Output('sku-dropdown', 'options'),\n",
        "    [Input('selected-category-store', 'data')],  # Input from dcc.Store holding the selected category\n",
        "    [State('original-activity-data', 'data')]  # State from dcc.Store holding original 'ACTIVITY' and 'SKU' data\n",
        ")\n",
        "def update_sku_dropdown(selected_category_data, original_activity_data):\n",
        "    if not selected_category_data or not original_activity_data:\n",
        "        # If no category is selected or no original activity data is available, return no options\n",
        "        return []\n",
        "\n",
        "    selected_category = selected_category_data.get('selected_category')\n",
        "    # Filter the original activity data for SKUs belonging to the selected category\n",
        "    skus_for_selected_category = [\n",
        "        {'label': item['SKU'], 'value': item['SKU']}\n",
        "        for item in original_activity_data\n",
        "        if item['ACTIVITY'] == selected_category\n",
        "    ]\n",
        "\n",
        "    return skus_for_selected_category\n"
      ]
    },
    {
      "cell_type": "markdown",
      "metadata": {
        "id": "FtV_Ob6IrHxZ"
      },
      "source": [
        "### Callback to update the SKU details card"
      ]
    },
    {
      "cell_type": "code",
      "execution_count": 415,
      "metadata": {
        "id": "3NnhozEyrHGv"
      },
      "outputs": [],
      "source": [
        "#from dash import no_update\n",
        "\n",
        "@app.callback(\n",
        "    [\n",
        "        Output('sku-details-card', 'children'),  # Update the SKU details card\n",
        "        Output('selected-sku-store', 'data')     # Store the selected SKU\n",
        "    ],\n",
        "    [Input('sku-dropdown', 'value')],           # Only SKU dropdown as an input\n",
        "    [State('preprocessed-data', 'data')]\n",
        ")\n",
        "def update_sku_details(selected_sku, preprocessed_data):\n",
        "    # Check if preprocessed data is available\n",
        "    if not preprocessed_data:\n",
        "        return \"Please upload data first.\", no_update\n",
        "\n",
        "    # Check if a SKU is selected\n",
        "    if not selected_sku:\n",
        "        return \"Please select a SKU to see details.\", no_update\n",
        "\n",
        "    # Convert the preprocessed data into a DataFrame\n",
        "    df_preprocessed = pd.DataFrame(preprocessed_data)\n",
        "\n",
        "    # Check if the selected SKU is in the preprocessed data\n",
        "    if 'SKU' in df_preprocessed.columns and selected_sku in df_preprocessed['SKU'].values:\n",
        "        # Retrieve the details for the selected SKU\n",
        "        sku_info = df_preprocessed[df_preprocessed['SKU'] == selected_sku].iloc[0].to_dict()\n",
        "\n",
        "        # Generate the card content using the SKU details\n",
        "        card_content = create_sku_details_card(sku_info)\n",
        "\n",
        "        # Return the card content and store the selected SKU\n",
        "        return card_content, {'sku': selected_sku}\n",
        "    else:\n",
        "        return \"SKU details not found. Please select a different SKU.\", no_update\n"
      ]
    },
    {
      "cell_type": "markdown",
      "metadata": {
        "id": "Q9rIceboAH7c"
      },
      "source": [
        "### Callback to populate the Similarity Model Output Filters dynamically (Pending)"
      ]
    },
    {
      "cell_type": "markdown",
      "metadata": {
        "id": "EYk3qy9VJoDF"
      },
      "source": [
        "### Callback for Processing Features and Computing Similarity\n",
        "One-Hot Encoding, Applying Weights, Applying PCA & Calculating cosine similarity from PCA features"
      ]
    },
    {
      "cell_type": "markdown",
      "metadata": {
        "id": "Dyklu0WBl7Ni"
      },
      "source": [
        "```\n",
        "from sklearn.preprocessing import OneHotEncoder\n",
        "from sklearn.decomposition import PCA\n",
        "from sklearn.metrics.pairwise import cosine_similarity\n",
        "#import numpy as np\n",
        "import pandas as pd\n",
        "import traceback\n",
        "#from dash import Input, Output, State, callback, no_update\n",
        "\n",
        "@app.callback(\n",
        "    Output('similarity-matrix-store', 'data'),  # Store the similarity matrix\n",
        "    Input('category-dropdown', 'value'),  # Triggered by category selection\n",
        "    State('preprocessed-data', 'data')  # Uses preprocessed data as a state\n",
        ")\n",
        "\n",
        "def compute_similarity_matrix(selected_category, preprocessed_data):\n",
        "  try:\n",
        "    if not preprocessed_data or not selected_category:\n",
        "        return no_update\n",
        "\n",
        "    # Convert preprocessed data into DataFrame\n",
        "    df = pd.DataFrame(preprocessed_data)\n",
        "\n",
        "    # Filter data based on selected category\n",
        "    if selected_category:\n",
        "        df = df[df['ACTIVITY'] == selected_category]\n",
        "        if df.empty:\n",
        "            return no_update  # Return if no data is available for the selected category\n",
        "\n",
        "    # Define categorical features based on the DataFrame's columns or fixed list\n",
        "    categorical_features = ['FAMILY', 'GENDER', 'MACRO_AESTHETIC_LINE', 'MAIN_COLOR', 'MATERIAL_GROUP', 'SEASONALITY', 'REAL_MONTH']\n",
        "    df[categorical_features] = df[categorical_features].astype(str)\n",
        "\n",
        "    # Initialize OneHotEncoder\n",
        "    one_hot_encoder = OneHotEncoder(sparse=True)\n",
        "    encoded_features = one_hot_encoder.fit_transform(df[categorical_features])\n",
        "\n",
        "    # Create a DataFrame from the encoded features, adding back the SKU\n",
        "    encoded_df = pd.DataFrame(encoded_features, columns=one_hot_encoder.get_feature_names_out(categorical_features))\n",
        "    encoded_df['SKU'] = df['SKU']  # Add the SKU as a column to the encoded features DataFrame\n",
        "\n",
        "    # Dynamic weights based on selected category\n",
        "    if selected_category == 'ACCESSORIES':\n",
        "        weights = np.array([10, 1, 1, 5, 1, 1, 1])  # Adjusted weights for ACCESSORIES\n",
        "    elif selected_category == 'LEATHER GOODS':\n",
        "        weights = np.array([5, 2, 2, 1, 10, 2, 1])  # Adjusted weights for LEATHER GOODS\n",
        "    else:\n",
        "        weights = np.array([1, 1, 1, 1, 1, 1, 1])  # Default weights if category is not recognized\n",
        "\n",
        "    # Calculate the repetition of weights according to unique categories\n",
        "    unique_values_counts = [one_hot_encoder.categories_[i].size for i in range(len(categorical_features))]\n",
        "    repeated_weights = np.repeat(weights, unique_values_counts)\n",
        "\n",
        "    # Apply weights\n",
        "    weighted_encoded_features = encoded_df.iloc[:, :-1] * repeated_weights  # Exclude 'SKU' from weighting\n",
        "    weighted_encoded_df = pd.concat([encoded_df[['SKU']], weighted_encoded_features], axis=1)\n",
        "\n",
        "    # Apply PCA\n",
        "    pca = PCA(n_components=0.95)\n",
        "    pca_features = pca.fit_transform(weighted_encoded_df.drop('SKU', axis=1))\n",
        "\n",
        "    # Calculate cosine similarity from PCA features\n",
        "    similarity_matrix_pca = cosine_similarity(pca_features)\n",
        "\n",
        "    return similarity_matrix_pca.tolist()  # Storing as list for JSON compatibility\n",
        "\n",
        "  except Exception as e:\n",
        "        print(\"Error processing data:\", str(e))\n",
        "        traceback.print_exc()\n",
        "        return {}  # Return an empty dictionary or appropriate error message/data\n",
        "```"
      ]
    },
    {
      "cell_type": "markdown",
      "metadata": {
        "id": "Yc1P5033yLRP"
      },
      "source": [
        "### Callback to Filtering Similarity Results for Selected SKU and Displaying Model Output"
      ]
    },
    {
      "cell_type": "markdown",
      "metadata": {
        "id": "agyyBJIclqFZ"
      },
      "source": [
        "```\n",
        "# triggered by selecting a sku in the dropdown or search\n",
        "\n",
        "@app.callback(\n",
        "    Output('benchmark-details-selected-sku-store', 'data'),  # Output: data for the DataTable displaying benchmark details\n",
        "    [Input('selected-sku-store', 'data'),      # Input: SKU selected from a dropdown\n",
        "     Input('similarity-matrix-store', 'data')],\n",
        "    State('preprocessed-data', 'data')\n",
        ")\n",
        "\n",
        "def generate_benchmarks(selected_sku_data, similarity_matrix, preprocessed_data):\n",
        "    if not selected_sku_data or not similarity_matrix or not preprocessed_data:\n",
        "        return []\n",
        "\n",
        "    df = pd.DataFrame(preprocessed_data)\n",
        "    similarity_matrix = np.array(similarity_matrix)\n",
        "    sku_index = df[df['SKU'] == selected_sku_data['sku']].index[0]\n",
        "    top_indices = np.argsort(similarity_matrix[sku_index])[::-1][1:41]  # Skip the first index because it's the SKU itself\n",
        "\n",
        "    benchmarks = df.iloc[top_indices].copy()\n",
        "    benchmarks['Similarity Score'] = similarity_matrix[sku_index][top_indices]\n",
        "\n",
        "    return benchmarks.to_dict('records')\n",
        "```\n",
        "\n",
        "\n",
        "\n"
      ]
    },
    {
      "cell_type": "markdown",
      "metadata": {
        "id": "dgoY84QdcTGj"
      },
      "source": [
        "### **Temporary Callback using a pre-loaded DataFrame with Benchmarks Dictionary and Filtering for Selected SKU**"
      ]
    },
    {
      "cell_type": "code",
      "execution_count": 416,
      "metadata": {
        "id": "CzZJb3Nkcp8d"
      },
      "outputs": [],
      "source": [
        "@app.callback(\n",
        "    Output('benchmark-details-selected-sku-store', 'data'),  # Output: data for the DataTable displaying benchmark details\n",
        "    Input('sku-dropdown', 'value')  # Input: SKU selected from a dropdown\n",
        ")\n",
        "def update_benchmark_details(selected_sku):\n",
        "    if not selected_sku:\n",
        "        return []\n",
        "\n",
        "    # Filter data based on the selected SKU and ensure you do not include the 'Unnamed: 0' column\n",
        "    filtered_data = df_benchmarks[df_benchmarks['Reference SKU'] == selected_sku].copy()\n",
        "\n",
        "    if filtered_data.empty:\n",
        "        return []\n",
        "\n",
        "    # Convert to dictionary for DataTable consumption, ensuring we do not include 'Unnamed: 0'\n",
        "    return filtered_data.to_dict('records')\n"
      ]
    },
    {
      "cell_type": "markdown",
      "metadata": {
        "id": "mYBwJNlEVvEO"
      },
      "source": [
        "### Callback to handle selected rows in the DataTable"
      ]
    },
    {
      "cell_type": "code",
      "execution_count": 417,
      "metadata": {
        "colab": {
          "base_uri": "https://localhost:8080/",
          "height": 0
        },
        "id": "vvB4uMhiS3Xr",
        "outputId": "7ce82329-e513-49de-9bdf-8297e887d7e7"
      },
      "outputs": [
        {
          "data": {
            "application/vnd.google.colaboratory.intrinsic+json": {
              "type": "string"
            },
            "text/plain": [
              "\"\\n# Callback to handle selected rows in the DataTable\\n@app.callback(\\n    Output('selected-data', 'children'),  # You will need to create this Div in your layout\\n    [Input('benchmark-details-selected-sku-store', 'selected_rows')],\\n    [State('benchmark-details-selected-sku-store', 'data')]  # Access the stored data of the DataTable\\n)\\ndef handle_row_selection(selected_rows, table_data):\\n    # selected_rows is a list of indices of the selected rows\\n    if not selected_rows:\\n        return html.Div('No rows selected')\\n\\n    selected_data = [table_data[i] for i in selected_rows]\\n    # Now you can save the selected data or perform other actions\\n    # For demonstration, we'll just display the selected rows' data\\n    return html.Ul(children=[html.Li(str(row)) for row in selected_data])\\n\""
            ]
          },
          "execution_count": 417,
          "metadata": {},
          "output_type": "execute_result"
        }
      ],
      "source": [
        "'''\n",
        "# Callback to handle selected rows in the DataTable\n",
        "@app.callback(\n",
        "    Output('selected-data', 'children'),  # You will need to create this Div in your layout\n",
        "    [Input('benchmark-details-selected-sku-store', 'selected_rows')],\n",
        "    [State('benchmark-details-selected-sku-store', 'data')]  # Access the stored data of the DataTable\n",
        ")\n",
        "def handle_row_selection(selected_rows, table_data):\n",
        "    # selected_rows is a list of indices of the selected rows\n",
        "    if not selected_rows:\n",
        "        return html.Div('No rows selected')\n",
        "\n",
        "    selected_data = [table_data[i] for i in selected_rows]\n",
        "    # Now you can save the selected data or perform other actions\n",
        "    # For demonstration, we'll just display the selected rows' data\n",
        "    return html.Ul(children=[html.Li(str(row)) for row in selected_data])\n",
        "'''\n"
      ]
    },
    {
      "cell_type": "markdown",
      "metadata": {
        "id": "QmDRZaksVzHL"
      },
      "source": [
        "### Callback to store selected rows in dcc.Store"
      ]
    },
    {
      "cell_type": "code",
      "execution_count": 418,
      "metadata": {
        "id": "CCmyKF6GV49C"
      },
      "outputs": [],
      "source": [
        "# Callback to store selected rows in dcc.Store\n",
        "@app.callback(\n",
        "    Output('stored-selected-rows', 'data'),\n",
        "    [Input('benchmark-details-selected-sku-store', 'selected_rows')],\n",
        "    [State('benchmark-details-selected-sku-store', 'data'),  # Adding data as a state\n",
        "     State('stored-selected-rows', 'data')]\n",
        ")\n",
        "def store_selected_rows(selected_rows, current_data, stored_data):\n",
        "    if stored_data is None:\n",
        "        stored_data = []\n",
        "\n",
        "    if current_data is None:\n",
        "        raise PreventUpdate  # If there's no data, don't do anything\n",
        "\n",
        "    # Use the current_data to find selected data\n",
        "    selected_data = [current_data[i] for i in selected_rows if i not in stored_data]\n",
        "    stored_data.extend(selected_data)\n",
        "    return stored_data"
      ]
    },
    {
      "cell_type": "markdown",
      "metadata": {
        "id": "MInUR6UhWW6V"
      },
      "source": [
        "### Callback to handle the saving of benchmarks and updating the session store"
      ]
    },
    {
      "cell_type": "code",
      "execution_count": 419,
      "metadata": {
        "id": "gNNXa1PhhVtu"
      },
      "outputs": [],
      "source": [
        "# Callback to handle the saving of benchmarks and updating the session store\n",
        "@app.callback(\n",
        "    Output('stored-benchmarks', 'data'),\n",
        "    [Input('save-benchmarks-button', 'n_clicks')],\n",
        "    [State('benchmark-details-selected-sku-store', 'selected_rows'),\n",
        "     State('benchmark-details-selected-sku-store', 'data'),  # Ensure this data is being provided\n",
        "     State('stored-benchmarks', 'data')]\n",
        ")\n",
        "def save_benchmarks(n_clicks, selected_rows, current_data, stored_benchmarks_data):\n",
        "    if n_clicks is None or not selected_rows or not current_data:\n",
        "        raise PreventUpdate\n",
        "\n",
        "    if stored_benchmarks_data is None:\n",
        "        stored_benchmarks_data = {}\n",
        "\n",
        "    # Retrieve the SKUs from the current_data based on selected rows\n",
        "    selected_skus = [current_data[i]['SKU'] for i in selected_rows]\n",
        "\n",
        "    # Assuming 'Reference SKU' is the key we're using to identify each group of benchmarks\n",
        "    reference_sku = current_data[selected_rows[0]]['Reference SKU']\n",
        "    stored_benchmarks_data[reference_sku] = stored_benchmarks_data.get(reference_sku, [])\n",
        "    stored_benchmarks_data[reference_sku].extend(selected_skus)\n",
        "    stored_benchmarks_data[reference_sku] = list(set(stored_benchmarks_data[reference_sku]))  # Remove duplicates\n",
        "\n",
        "    return stored_benchmarks_data\n"
      ]
    },
    {
      "cell_type": "code",
      "execution_count": 420,
      "metadata": {
        "colab": {
          "base_uri": "https://localhost:8080/",
          "height": 0
        },
        "id": "dUaJ8DE5rfaW",
        "outputId": "6eafb2c7-df88-4e30-ffc5-4f99bc18f063"
      },
      "outputs": [
        {
          "data": {
            "application/vnd.google.colaboratory.intrinsic+json": {
              "type": "string"
            },
            "text/plain": [
              "\"\\n@app.callback(\\n    Output('stored-benchmarks', 'data'),\\n    Input('save-benchmarks-button', 'n_clicks'),\\n    State('benchmark-details-selected-sku-store', 'data'),  # Adding the actual data being displayed\\n    State('benchmark-details-selected-sku-store', 'selected_rows'),\\n    State('current-sku-store', 'data'),\\n    State('stored-benchmarks', 'data')\\n)\\ndef save_benchmarks(n_clicks, table_data, selected_rows, current_sku_data, stored_benchmarks_data):\\n    if n_clicks is None or not selected_rows or not current_sku_data or not table_data:\\n        raise PreventUpdate\\n\\n    current_sku = current_sku_data['sku']  # Get the current SKU from the store data\\n\\n    if stored_benchmarks_data is None:\\n        stored_benchmarks_data = {}\\n\\n    # Fetching the Benchmark SKU from the current table data based on selected rows\\n    selected_skus = [table_data[i]['Benchmark SKU'] for i in selected_rows]\\n\\n    # Ensure only unique SKUs are stored\\n    if current_sku in stored_benchmarks_data:\\n        # Convert to set to remove duplicates and then back to list\\n        existing_set = set(stored_benchmarks_data[current_sku])\\n        new_set = set(selected_skus)\\n        combined_set = existing_set.union(new_set)\\n        stored_benchmarks_data[current_sku] = list(combined_set)\\n    else:\\n        stored_benchmarks_data[current_sku] = selected_skus\\n\\n    return stored_benchmarks_data\\n\""
            ]
          },
          "execution_count": 420,
          "metadata": {},
          "output_type": "execute_result"
        }
      ],
      "source": [
        "'''\n",
        "@app.callback(\n",
        "    Output('stored-benchmarks', 'data'),\n",
        "    Input('save-benchmarks-button', 'n_clicks'),\n",
        "    State('benchmark-details-selected-sku-store', 'data'),  # Adding the actual data being displayed\n",
        "    State('benchmark-details-selected-sku-store', 'selected_rows'),\n",
        "    State('current-sku-store', 'data'),\n",
        "    State('stored-benchmarks', 'data')\n",
        ")\n",
        "def save_benchmarks(n_clicks, table_data, selected_rows, current_sku_data, stored_benchmarks_data):\n",
        "    if n_clicks is None or not selected_rows or not current_sku_data or not table_data:\n",
        "        raise PreventUpdate\n",
        "\n",
        "    current_sku = current_sku_data['sku']  # Get the current SKU from the store data\n",
        "\n",
        "    if stored_benchmarks_data is None:\n",
        "        stored_benchmarks_data = {}\n",
        "\n",
        "    # Fetching the Benchmark SKU from the current table data based on selected rows\n",
        "    selected_skus = [table_data[i]['Benchmark SKU'] for i in selected_rows]\n",
        "\n",
        "    # Ensure only unique SKUs are stored\n",
        "    if current_sku in stored_benchmarks_data:\n",
        "        # Convert to set to remove duplicates and then back to list\n",
        "        existing_set = set(stored_benchmarks_data[current_sku])\n",
        "        new_set = set(selected_skus)\n",
        "        combined_set = existing_set.union(new_set)\n",
        "        stored_benchmarks_data[current_sku] = list(combined_set)\n",
        "    else:\n",
        "        stored_benchmarks_data[current_sku] = selected_skus\n",
        "\n",
        "    return stored_benchmarks_data\n",
        "'''"
      ]
    },
    {
      "cell_type": "markdown",
      "metadata": {
        "id": "TEwwCm26WY1j"
      },
      "source": [
        "### Callback to update the temporary table displaying benchmarks"
      ]
    },
    {
      "cell_type": "code",
      "execution_count": 421,
      "metadata": {
        "id": "oh8jSZZVqjM2"
      },
      "outputs": [],
      "source": [
        "# Corrected Callback to update the table displaying the session's benchmarks\n",
        "@app.callback(\n",
        "    Output('benchmarks-summary-table', 'data'),\n",
        "    [Input('stored-benchmarks', 'data')]\n",
        ")\n",
        "def update_benchmarks_summary(stored_benchmarks_data):\n",
        "    if not stored_benchmarks_data:\n",
        "        return []\n",
        "\n",
        "    summary_data = [\n",
        "        {\n",
        "            'Reference SKU': sku,\n",
        "            'Number of Benchmarks Saved': len(benchmarks),\n",
        "            'List of Benchmarks': ', '.join(benchmarks)\n",
        "        }\n",
        "        for sku, benchmarks in stored_benchmarks_data.items()\n",
        "    ]\n",
        "\n",
        "    return summary_data"
      ]
    },
    {
      "cell_type": "markdown",
      "metadata": {
        "id": "wRr9vzWlCcPZ"
      },
      "source": [
        "### Callback to update selected rows based on sku"
      ]
    },
    {
      "cell_type": "code",
      "execution_count": 422,
      "metadata": {
        "id": "QKYX_QVrCeK1"
      },
      "outputs": [],
      "source": [
        "@app.callback(\n",
        "    Output('benchmark-details-selected-sku-store', 'selected_rows'),  # Target the selected_rows property\n",
        "    [Input('sku-dropdown', 'value')],\n",
        "    [State('stored-benchmarks', 'data'),  # Assuming benchmarks are stored here\n",
        "     State('benchmark-details-selected-sku-store', 'data')]  # Current data in the DataTable\n",
        ")\n",
        "def update_selected_rows_based_on_sku(selected_sku, stored_benchmarks, current_table_data):\n",
        "    print(\"Callback Triggered\")\n",
        "    if not selected_sku or not current_table_data:\n",
        "        print(\"No SKU selected or no data present\")\n",
        "        return []  # Deselect all rows if no SKU is selected or if no data is present\n",
        "\n",
        "    if not stored_benchmarks:\n",
        "        print(\"No benchmarks stored\")\n",
        "        return []  # Deselect all rows if no benchmarks are stored\n",
        "\n",
        "    print(f\"Stored Benchmarks: {stored_benchmarks}\")\n",
        "    print(f\"Current Table Data: {current_table_data}\")\n",
        "\n",
        "    # Retrieve saved benchmark SKUs for the selected SKU\n",
        "    saved_benchmarks = stored_benchmarks.get(selected_sku, [])\n",
        "    print(f\"Saved Benchmarks for {selected_sku}: {saved_benchmarks}\")\n",
        "\n",
        "    # Find indices of these SKUs in the current table data\n",
        "    indices_to_select = []\n",
        "    for index, row in enumerate(current_table_data):\n",
        "        if row['Benchmark SKU'] in saved_benchmarks:\n",
        "            indices_to_select.append(index)\n",
        "\n",
        "    print(f\"Indices to Select: {indices_to_select}\")\n",
        "    return indices_to_select"
      ]
    },
    {
      "cell_type": "markdown",
      "metadata": {
        "id": "JGm3cZVlWapW"
      },
      "source": [
        "### Callback to generate the download content"
      ]
    },
    {
      "cell_type": "code",
      "execution_count": 423,
      "metadata": {
        "colab": {
          "base_uri": "https://localhost:8080/",
          "height": 0
        },
        "id": "V7DmX1WMqmBc",
        "outputId": "0d0b4f4f-1c18-441d-852a-c658696a5c46"
      },
      "outputs": [
        {
          "data": {
            "application/vnd.google.colaboratory.intrinsic+json": {
              "type": "string"
            },
            "text/plain": [
              "'\\n@app.callback(\\n    Output(\"download-selected-data\", \"data\"),\\n    [Input(\"btn-download\", \"n_clicks\")],\\n    [State(\"stored-benchmarks\", \"data\")],\\n    prevent_initial_call=True\\n)\\ndef generate_download(n_clicks, stored_benchmarks_data):\\n    if n_clicks is None or not stored_benchmarks_data:\\n        raise PreventUpdate\\n\\n    download_data = []\\n    for sku, benchmarks in stored_benchmarks_data.items():\\n        for benchmark in benchmarks:\\n            download_data.append({\\n                \\'Reference SKU\\': sku,\\n                \\'Benchmark SKU\\': benchmark\\n            })\\n\\n    df = pd.DataFrame(download_data)\\n    return dcc.send_data_frame(df.to_csv, filename=\"benchmarks_session_data.csv\")\\n'"
            ]
          },
          "execution_count": 423,
          "metadata": {},
          "output_type": "execute_result"
        }
      ],
      "source": [
        "# Adjusted Callback to generate the download content\n",
        "\n",
        "'''\n",
        "@app.callback(\n",
        "    Output(\"download-selected-data\", \"data\"),\n",
        "    [Input(\"btn-download\", \"n_clicks\")],\n",
        "    [State(\"stored-benchmarks\", \"data\")],\n",
        "    prevent_initial_call=True\n",
        ")\n",
        "def generate_download(n_clicks, stored_benchmarks_data):\n",
        "    if n_clicks is None or not stored_benchmarks_data:\n",
        "        raise PreventUpdate\n",
        "\n",
        "    download_data = []\n",
        "    for sku, benchmarks in stored_benchmarks_data.items():\n",
        "        for benchmark in benchmarks:\n",
        "            download_data.append({\n",
        "                'Reference SKU': sku,\n",
        "                'Benchmark SKU': benchmark\n",
        "            })\n",
        "\n",
        "    df = pd.DataFrame(download_data)\n",
        "    return dcc.send_data_frame(df.to_csv, filename=\"benchmarks_session_data.csv\")\n",
        "'''"
      ]
    },
    {
      "cell_type": "code",
      "execution_count": 424,
      "metadata": {
        "id": "KeHa1NOWOVoR"
      },
      "outputs": [],
      "source": [
        "@app.callback(\n",
        "    Output(\"download-selected-data\", \"data\"),\n",
        "    [Input(\"btn-download\", \"n_clicks\")],\n",
        "    [State(\"stored-benchmarks\", \"data\"),\n",
        "     State(\"preprocessed-data\", \"data\")],  # Assuming this store holds the complete preprocessed data\n",
        "    prevent_initial_call=True\n",
        ")\n",
        "def generate_download(n_clicks, stored_benchmarks_data, preprocessed_data):\n",
        "    if n_clicks is None or not stored_benchmarks_data:\n",
        "        raise PreventUpdate\n",
        "\n",
        "    # Convert the stored preprocessed data into a DataFrame\n",
        "    df_preprocessed = pd.DataFrame(preprocessed_data)\n",
        "\n",
        "    # List to hold data for download\n",
        "    download_data = []\n",
        "\n",
        "    # Go through each stored benchmark and enrich it with additional data from preprocessed data\n",
        "    for sku, benchmarks in stored_benchmarks_data.items():\n",
        "        # Fetch rows for the current reference SKU\n",
        "        ref_data = df_preprocessed[df_preprocessed['SKU'] == sku]\n",
        "\n",
        "        for benchmark_sku in benchmarks:\n",
        "            # Fetch the data for the benchmark SKU\n",
        "            benchmark_data = df_preprocessed[df_preprocessed['SKU'] == benchmark_sku]\n",
        "\n",
        "            if not benchmark_data.empty:\n",
        "                # Create a dictionary that combines info from both the reference SKU and benchmark SKU\n",
        "                download_row = {\n",
        "                    'Reference SKU': sku,\n",
        "                    'Benchmark SKU': benchmark_sku,\n",
        "                    **{col: benchmark_data.iloc[0][col] for col in df_preprocessed.columns if col != 'SKU'}\n",
        "                }\n",
        "                download_data.append(download_row)\n",
        "\n",
        "    # Create a DataFrame from the collected data\n",
        "    df_download = pd.DataFrame(download_data)\n",
        "\n",
        "    # Return the CSV data to be downloaded\n",
        "    return dcc.send_data_frame(df_download.to_csv, filename=\"benchmarks_session_data.csv\")"
      ]
    },
    {
      "cell_type": "markdown",
      "metadata": {
        "id": "2n5qFsR5WJy1"
      },
      "source": [
        "## Running the App"
      ]
    },
    {
      "cell_type": "markdown",
      "metadata": {
        "id": "vT4NUZUpgEMm"
      },
      "source": [
        "### **User Journey** (Pending Update V4)\n"
      ]
    },
    {
      "cell_type": "markdown",
      "metadata": {
        "id": "ijPNTLsM-Y_z"
      },
      "source": [
        "1. **User uploads data:** Clean Bible in csv or excel format\n",
        "\n",
        "> A preview of the file appears\n",
        "\n",
        "> The uploaded file populates the *category* drowpdown\n",
        "\n",
        "---\n",
        "\n",
        "2. **User selects a product category** (E.g. Accesories, RTW, etc)\n",
        "\n",
        "> Category selection filters data and populates **SKU** dropdown options\n",
        "\n",
        "---\n",
        "\n",
        "3. After the \"category\" is chosen, **User clicks \"Find Benchmarks\"** button\n",
        "\n",
        "> \"Find Benchmarks\" button triggers Similarity Model for selected category\n",
        "\n",
        "---\n",
        "\n",
        "4. **User selects a SKU** in one of 2 ways: SKU Dropdown or Search Bar\n",
        "\n",
        "> A detailed description of selected SKU appears in Card\n",
        "\n",
        "> Top N items appear in table\n",
        "\n",
        "\n",
        "---\n",
        "\n",
        "5. **User reviews top similar items and selects benchmarks** (ticking a box in selected item's row)\n",
        "\n",
        "---\n",
        "\n",
        "6. **User clicks \"Save Benchmarks\" button**\n",
        "\n",
        "> *Saved benchmarks* Table is populated with selected SKU, number of benchmarks saved and list of benchmarks\n",
        "\n",
        "---\n",
        "\n",
        "7. User repeats steps 4-6 until reviewing all desired SKUs and finalizes the process by **Downloading Saved Benchmarks**\n",
        "\n",
        "> Selected benchmarks details are saved in a csv / excel format and downloaded"
      ]
    },
    {
      "cell_type": "markdown",
      "metadata": {
        "id": "J0aMlsUx-cMl"
      },
      "source": [
        "### Dashboard\n",
        "\n",
        "V5 Changes:\n",
        "\n",
        "* Downloaded data format: Now contains all columns and info for benchmarked skus\n",
        "* interactive tables: sorting enabled\n",
        "* ensured that there is a unique row per sku in benchmarking summary table"
      ]
    },
    {
      "cell_type": "markdown",
      "metadata": {
        "id": "325GlYYfG4dR"
      },
      "source": [
        "Agregar descripcion de componentes y UI design"
      ]
    },
    {
      "cell_type": "code",
      "execution_count": 425,
      "metadata": {
        "colab": {
          "base_uri": "https://localhost:8080/",
          "height": 672
        },
        "id": "asrLiOu3Tyk0",
        "outputId": "2a689710-6a01-489a-e466-e86adaa447c4"
      },
      "outputs": [
        {
          "data": {
            "application/javascript": "(async (port, path, width, height, cache, element) => {\n    if (!google.colab.kernel.accessAllowed && !cache) {\n      return;\n    }\n    element.appendChild(document.createTextNode(''));\n    const url = await google.colab.kernel.proxyPort(port, {cache});\n    const iframe = document.createElement('iframe');\n    iframe.src = new URL(path, url).toString();\n    iframe.height = height;\n    iframe.width = width;\n    iframe.style.border = 0;\n    iframe.allow = [\n        'accelerometer',\n        'autoplay',\n        'camera',\n        'clipboard-read',\n        'clipboard-write',\n        'gyroscope',\n        'magnetometer',\n        'microphone',\n        'serial',\n        'usb',\n        'xr-spatial-tracking',\n    ].join('; ');\n    element.appendChild(iframe);\n  })(8050, \"/\", \"100%\", 650, false, window.element)",
            "text/plain": [
              "<IPython.core.display.Javascript object>"
            ]
          },
          "metadata": {},
          "output_type": "display_data"
        }
      ],
      "source": [
        "if __name__ == '__main__':\n",
        "    app.run_server(debug=True)\n",
        "\n",
        "#M77487\n",
        "#M77562\n",
        "\n",
        "# add button to save selection for current sku\n",
        "# be able to look for it again and see the previous savings for the session"
      ]
    },
    {
      "cell_type": "markdown",
      "metadata": {
        "id": "WlPCCOcD-DIl"
      },
      "source": [
        "# WIP"
      ]
    },
    {
      "cell_type": "markdown",
      "metadata": {
        "id": "NXeJ5AnC0Y1k"
      },
      "source": [
        "develop a page tfor the user to select feature importance"
      ]
    },
    {
      "cell_type": "markdown",
      "metadata": {
        "id": "-39yRFvCP9o_"
      },
      "source": [
        "###  Enable the user to search for benchmarks throughout their whole category and using filters\n"
      ]
    },
    {
      "cell_type": "code",
      "execution_count": null,
      "metadata": {
        "id": "_aDqVOz2P9DH"
      },
      "outputs": [],
      "source": [
        "@app.callback(\n",
        "    Output('benchmark-details-selected-sku-store', 'selected_rows'),  # Target the selected_rows property\n",
        "    [Input('sku-dropdown', 'value')],\n",
        "    [State('stored-benchmarks', 'data'),  # Assuming benchmarks are stored here\n",
        "     State('benchmark-details-selected-sku-store', 'data')]  # Current data in the DataTable\n",
        ")\n",
        "def update_selected_rows_based_on_sku(selected_sku, stored_benchmarks, current_table_data):\n",
        "    if not selected_sku or not current_table_data:\n",
        "        return []  # Deselect all rows if no SKU is selected or if no data is present\n",
        "\n",
        "    if not stored_benchmarks:\n",
        "        return []  # Deselect all rows if no benchmarks are stored\n",
        "\n",
        "    # Retrieve saved benchmark SKUs for the selected SKU\n",
        "    saved_benchmarks = stored_benchmarks.get(selected_sku, [])\n",
        "\n",
        "    # Find indices of these SKUs in the current table data\n",
        "    indices_to_select = []\n",
        "    for index, row in enumerate(current_table_data):\n",
        "        if row['Benchmark SKU'] in saved_benchmarks:\n",
        "            indices_to_select.append(index)\n",
        "\n",
        "    return indices_to_select\n"
      ]
    },
    {
      "cell_type": "markdown",
      "metadata": {
        "id": "ZAOFhFu7eF-x"
      },
      "source": [
        "Update User Journey"
      ]
    },
    {
      "cell_type": "markdown",
      "metadata": {
        "id": "YSk1JK7Hf-aC"
      },
      "source": [
        "Update Similarity Model and add Model for other categories (RTW, LW, etc)"
      ]
    },
    {
      "cell_type": "markdown",
      "metadata": {
        "id": "N7zpbwaeprsR"
      },
      "source": [
        "Add new skus dynamic so the user can upload any document with new skus, then choose a column, then convert that column to a list and the pass it to the skus dropdown"
      ]
    },
    {
      "cell_type": "markdown",
      "metadata": {
        "id": "bw55qYT7i62V"
      },
      "source": [
        "UI Feedback: Given the potentially intensive computations, consider providing users with feedback during data processing stages (e.g., loading spinners or progress bars).\n"
      ]
    },
    {
      "cell_type": "markdown",
      "metadata": {
        "id": "d4PM-9jyTvoq"
      },
      "source": [
        "Add columns Shannon mentioned"
      ]
    },
    {
      "cell_type": "markdown",
      "metadata": {
        "id": "NMMgdbap8iHt"
      },
      "source": [
        "# To Do (Nice to have)\n"
      ]
    },
    {
      "cell_type": "markdown",
      "metadata": {
        "id": "XmzOf9h7FDds"
      },
      "source": [
        "![image.png](data:image/png;base64,iVBORw0KGgoAAAANSUhEUgAAAmAAAABsCAYAAADNNg6CAAAAAXNSR0IArs4c6QAAAARnQU1BAACxjwv8YQUAAAAJcEhZcwAAHYcAAB2HAY/l8WUAAB8DSURBVHhe7d0PcBRlnjfwrxsYkAEusyAxMsElCw5YFzkZcQOWWUuia+QgUvJHN7wSOE08IMcBx4XyYpYNHJUUBykqxCORlXiXuLuALwYP4mrwdeMJ2cVwi7kXDLBBYTSbADucOBgmBu/pmafnX6ZnEpg0Seb7qerK051Jp7un++lfP/30r28zm83fgYiIiIh08z35k4iIiIh0wgCMiIiISGcMwIiIiIh0xgCMiIiISGcMwIiIiIh0xgCMiIiISGcMwIiIiIh0xgCMiIiISGcMwIiIiIh0xgCMiIiISGcMwIiIiIh0xgCMiIiISGe99jLuMYPvxcShP0G84X6MiIkXkV6M/A0NFNfRiSudLWhx/hdOt/8GbR0n5G+IiIgolF4JwB4asQqTbp8txyhafPrN2/joSrEcIyIiIi0RvwX5k9giBl9RSvnele+fiIiIQotoAKa0fJkN0+QYRSPl+1f2AyIiItIWsQBM6fPFli9SKPuBsj8QERFRcBELwJQO90Qq7g9ERETaIhaAKU87Eqm4PxAREWmLWACmpJogUnF/ICIi0haxAIx5vsgX9wciIiJtEQvAiIiIiKh7GIARERER6YwBGBEREZHOGIARERER6YwBGBEREZHOGIARERER6YwBGBEREZHOGIARERER6YwBGBEREZHOGIARERER6YwBGBEREZHOGIARERER6YwBGBEREZHOGIARERER6YwBGBEREZHOGIARERER6YwBGBEREZHOGIARERER6ew2s9n8nSzflL8Z874sRVZ8ygiMHiFHhG9b23Hy4w45FtrN/C3dvF+0PSpLOjOaYZlggkGOanLa0XzSBoccDSV2QhISjErJgfPHm3HZNZVoAOuF44iIvPp8ADbnzYmY+gM5IrR/fBGF2XY5FtrN/C3dvFsWgD2Sh8qVVrjipXA6nbB/cQwHd27H3kbtU0jm1n1IH6+UmlE9dw0qXFOJBrAbOY5eL8PeY7w8IeoO3oKk6BZjgGlcMjIKylD4rEVOpIFIXGzK0o2LxDwGJPU4erkMJcuSuxe0EemgLx/3DMBoYLPVIn99ftfhlSrUfNgI21fyc+KUYVmQi7yZPHUMRPPnz8eRI0dw5PBhOaXndu/e7ZrH6tWr5ZQoonUcba5A9aEG2Dw3FgwwP7YKBUt4MUO3Xl8/7hmA0cDW4UDj8cauw3t7Ub41HzmLl6D8mHr2MMH67ApY5RgNHDabzfXTnJBwQ5WxUglPnz7dVVYq46ijdRwdrkbF9o3IWboIRe/Z4HR92IDEmRlIc5WJbp2+ftwzAKModxk1G4pQ2yJHRyUh/QlZpgHD9wq2p5WxbyW8YMGC6AzAwnKg/pUiHHKf7wCjBT9eIMtEt0hfP+7ZCT/QvUakzBqJ8fcZMHyInIbruPzJVZz8v5dw7IScpGH8c3dg6oQYOQbYP/4T3t8vCgnDMGOxCUn3DcIg12+u42Ld/6Bu+1dQz/0uCSPw6AsjMXGS+rnv8PUnV1D3uh1nz7smhCf+19T0kUj60ZAbWodI6ROd8M9WY+7q8F3mzct2oOSxOFfZXl+EpUX1rrKqR53wR1mR/tcpsP6l2dsXpsOO5j/Uo/pALWyhHhcbl4qMxxNdf9d6rBzVx0TBaEbqrPlImeadn6PlCOp+XYPaL0LNTCzH81Yoa+U4exBVrrNjLKyzFyBtugWmwa4PiUVrwpF3dov/1bPO07FT07HgiemwqDMSJ2Hbfzeg7j+q0XBJTtJgnpmBJ8e71hINO8XnRSn24UysSLPCPHYMTIY21BXmoPS46+MRo9yS2Lp1q6tsO38e02fMcJW1RHXwdQPHkfH5ElTOcveXcRwtxqJNda6ylpvZh3wp83nqESuS4j1HnDhGGtHwwVs92q+NY1ORtjAF029oPt7jDa0NKH9b2au1hP+sdXYWrMoH2ptxsFLUG+KbSJqVifmPTILZPAZGZxP2LM7HXvfHA3Q9zpU6qOlILQ6+Xx+6DgrQdZt0wP75x6jfF67+8eeaz9xkPHC3Cd5FasbHv6tGjaiberBIPdZXj3sGYB5GPF52Bx68fzAGeeOnLtpPXMaBly6gUSMYmlH2Qzz+gLdh8cL+03jj/8fjudXDYfIEQ17ftjrwfvaXOCzmN3HlWKQvHOYTNPm41oHTO75A1b+FSqMxGA8W3IVHnzBgqOY6fCeCwst4f+NFzXWIlP4UgGGm+JsV7r9xNlZgYX61e7rUrQDMmISMf1qFeZNNckIQnQ40vVWEDZWNwSscn2Vv3j8X+SeXo3BlKsxD3b/250Tr4Qqs21yjkRYjE1v2pSNRlFwnw70mFPxjJpJGuX8byHFyL4r+uQohHgZ1uycdeX//U1jjtRIUiOU6+gaKN1WjSU4JlPJSJVZNc62l2J7l6Nj0sthuagWvcKBh2yJs/ECORlB3K+Oob/m6kePI52+cp6qwMDd4eBCJfchlVBpyN2QiWXM+7v16w0tVoedjTEbW+hVIm+C7D/pzttSj4uUi1GgGht7jLfz2Cv9ZT53zVQOKl9XDuvkFpPitZ/C6yPJUHlYtFMFd0DpDaBcXPXtLUfymRh2k6sY2cZypwfb15agPNSNXvZgbcHz7c7bU4dW1xajtxSisLx73vAWpSDAh42A8ZjwQOvhSDL03Fk9XjEXKvXJCODGjsUAj+FIMijPi0S1xGJ8xFk8/pxF8KYYMxsQX78KcFDnexRCklI3Dk7NCBV+K22B6wIT0srswI0FOIhEYyZ8Ksa17zJiKvJIC/+DL6YTTboOtzaEU3WKMsDyd171OyrdnomCVDL46xbza3YOXAXEzslC4uju91hKRu84bfKnzcvqst3HyPOTlz3OfcLXcI04c4oTne+L0zMuzaGK5poll35qJ7nTFjlutBK3e/xq4XJG2Z8+esLcloj74ulG+dY+4aAwqUvuQcsxtzvIGX+IYcbTZ0HymGTa79zhR9uuCzZnQfI5NBIMFJbn+gYa6PGJQGeJFQLJ9CzLvkRN0ZM33Cb5kXRCMZckWFCz2Cb586g3PMTU0DtZFYeogV32mtU3kuGCcIALgkjykalYaFmRuyPM/vkWd6PqOlHpRLpMhPgXLxf/TPL1FQF887hmAYTAeLxqFiXG3yXGp8zrsf3Tighi+viqnqWKH4dFNd2KiHA3l9gdGIl4GVd9e/Q7fXnOXfQ364XAsXDoM6jGj9TkMMeC+xd+XI/4mFsXjUZ+WN5erna7ldw2t/g2drsCvaDRCtNVEFeOEOE/g0fE/bbLUXUak54oTiroxna2o35mDRQsXiu81BznZi7Bw4SLkH2juUSflxEfFFbLBgeZ3irFknpjXs+5h7qJ8VDV6W3LjfjQfGZoVoJtxajqSTUqrQhXyF831zGvhvCUoPqR2nhZLds+TWDFNjgRSKuV1yjK5R5Wr3+Lnfea1cC6WbK1Bs7yKNYxPR25uuCo1Eckz4kTlbkPdaxuxZK6c37zeaf1SBauMlYpXedycwdeNM1u8t8ntl5tlyUcE96G0td5jznGqGhuzF2JRdg7WrF2DnKWinF8F9TAxTEhF1uxgB4kFy/9eXJjI+TjbGlCVvwhz1eURw6IVpag9J4+QoYlIX9e7gUIXI61IuUdssEtNqN4u6hVZF8wNaP0yzsxD7pxEUbsonLAdKkXOYu96+B/rog6ak4vcR1wjAZSg6QXPtnW2BG6Tua5t29Amt4nJihfWBw9wzdkrkD5eLlFbPcpXiLpQ1Imu70ipF7OLUWtT55OMny7rziXbjetrx32/C8AGjb4dTxfc2a3hDp8s+FpMf3snHrT4B1/t4qitevCP2Lbgc5SK4V8ePof3P+rEt/L3Lgkj8PjPhskRbcPjYty3Gf/PaWx8+Aw2zvgMb1a1w+ciQvgehsbK25Gez51G2eavYQ8IxAb94HY8KMseP7oTT6b6ttp8h68/uoSyh5tdy+8anjyDsn+96vd/B1n+AnMy5EhUM2P+vWNkWVRcZ0L3W+kqCXFDvoZDuZpzNqP65RdRdCCwT4MDjTvz8UajrGyMFkyf7S5qinGief8GrCmr87/F6GjE3vwi1KgnBYMFUxeEicBixAnx6KtYs2lvwC3Gy6jbvg6vHlMnmpD0WPDTizV7nqdSth8tRfbactQF3I65/GE51qzciya1ThWBX+Y4d1lTp9hmP8tB8dsNur5hQKmM1QpXqYyVClipdBl83SARXGX+yNWrSXDAdqxRlr0itw+lwOrqQyi0N2JPbkWXPmOOxr3IL6xFqyg7v/oahrgk9y98GJ9dgpR4OWJvwKurN3ZJyOz4ohalK/NRfVa/QKELsWylK9ehQrOvlBVZC6zyglqpN/KRsz2wv6lyrOeIC0E1CDNhato8V8mXccESpKlB09lq5C8Lsk3Ett24uhj18lpVCXAzgwRzqSIgd2tF3T+LOiuwz9ilOpSue8NdJ7Xb0WEUdan7N72mLx33/S8A+4HSEXFEt4YEjb4uXoPxcOpQ2dlduuTAu5kXcVqOul1D3d/9CZ98JkelOx6KxVRZ1tTpxCc//xJ1no7vHWjceh6H/xDY9a4Dpwt9Pwe0/KoF+/9fQDN+7CDcKYuqqRnD/Fqyvm26jF/83Z/9O/cLLTu/wJu1vvP7HsbPGi3L0cuyZJWnwoGjCb/d7S52n7iyy31RXJkuwcaiclSckpO7cIhKXH1MzABjuE1/6Rje2KXVc6UJ5R+dlRUpEBcf5jakswmHttVqVN4O1O5vcJ2oFMbRrp4pAdKQPlVWjZfqUbpJa17CpSpsf1+upyER1rTQSQxbf1scYpv1LuUxdaXi9a1wXf1DAqZRaMakecjb+gKsI+WEtgbUdGnBjOQ+lAiT+r++siNIW5vbqQqsUVp8F7+IdTv9H6xRLrwyH7bIFiM76v91Y4g+SE2o2FHnOUaUVmf9WsGcaNwXatmEJ9JhldeQzlP7ka9Zb4g12XkQjZfctxMxIgHJcrqbGRnqNhF1xv6XK7T7zjnqUbRP7UdmxKRHAtv0kxEXK4vOy2g9J8uBHNUoylZa2JYiZ/NezzbuTX3luI/yW5DfR4JPJ31Fy3sXoDx41tVV7K9p928FGzUUk2fJspbz7dj/O1n2UXcuILASB8SJIA0vZ090BLSWBRqByZN8O15cx/kDF0V1Etzp7d/ggiy73DUEoZ8HGahikTgjHcs3V6LQp9m++VAValzlG3EZDcdCdvX1Excfugp3fN7gejpQU1Or53s2moIFTT7+1Iy3QlXgx8/jshrNxcYFVMrCTCsSZYND67Gq0Msl2Go+9VSkYxK7zM2HA7YTalB6ayiVsXLVmyCuhpVB6Zyr5g8iaUwytmze0nXYtgOVv9yHyoIMEQDIixinDTU7i7vuIxHdhz5Fm7rzj0lCumYCZQccWvv9uHQkqa1fym22o7KsRQRz9WdleWSi2E9kudfZ0Py2LGpIneZ+clqpw5r+s0o7sHWpwcbn5e3EZcXi8tGH8UkkyVjX2XQEVaFnBLzTgGZ5gjLGT4J/G2M9WtVWScN4TA/R58yh+SX1nr5w3Ed3AJYxSIQvvjpw8VcaHUcVO6+ixa8/WAxi75dFDe0X1bNaGFc60bXBvjuGIdavpe87DLIEvyXrGl4QwZrvOowYhAHdBjY+Hfv27Qsy7MKWtZlI9elkaq9/NeSV441QXuKdJAK9zOezsPylLXjt8TCBkq/OMPvOcbu3og354IWgdFCWxeDa8LUa6ccMlgGpl7dvjwNtF01ImiLWK9RgcuCynJ8hNiGgYqZ+xxiHxAmJXYdxcTD6Pm33VTNqitehPEgwE9l9qB61/62GZyZYV1TitW15yJqdjMSwdz6kKXGeOwd2cbET/tTrQO0Z7/8co/NdSG1mWDwpIsIHayE9aobaGaPtki349+I3iDpIfZuIuHAL3CR7jjbJVnqlz1khKssKsWpBKixjvfVuNIvyFjAiIiIi/fW7AEzpIP9m/p+6NZwMl+dq/CDPk4cuVzrQEvJvruPbgMfjBxluIGVBJD0T2IoXg4Qg/eG8gxF3+D07MAimZ2QxWjlsaKjMR05RiD4p3WKEeWYm8jaV4LVf/trV0rZrcwEK1mYifVaa6zaByW+H6z8SY4fLkhFJz4p1Wh9uSIdFXdehRr8+ijQwtR4uwpLFa1CukRQq0vtQw9ZiVJ/xthKbxlmRtjQXW3buw77KHShZvwrzZvokQw402uhp6bW3BfYPC87mc6vMaOor7bqiXlFXMlR/uO7w2SbmR/KCfCeBwyokq01m4lyofsMqx+4NeLXe2yHGOMaClGeXo3B7Jfb9+jWUbFJaLa1Qu4pFm/7XAnatE40HrnRr+CZcLqFwt226uIb2K7Io3T7qFjel9ngdgojEPPoqR6sr54zfcLwONQdqxFCF0pdysGhRDjaGS0oYzj0ZKHy9EiUr0mGdbBaBVsBNPCUfj92GxrNavfOI+jAlWejcuV2GnP1qahUg7i9TcZ8s66MJFWuzUfyW78vAJWMczFNSkLGiBJWvb0FWcoTq6c+9t/2HD+VlRXgO1BblIH9nLZraAmpYgwnmyUrQnIddv9yBvKf6zD1d3UR3JvzV47A+wyfzaec1HH7wHN6Vo12ZsPiD0Rjv0+SkZLov/bkcEQIz4Wsu78/uxvo5Pifpz77C+qeDPP+RMRbrVntzhCmdLI9ZP4fydiOXWXfhHwqMPlcenTh/4GoPHufvRMuBCzgc5EGBm9WvMuGHETITvitp4XJvHrBO9+tUGk804kjTedjPNHkfB1+yBfvmuPuBBX1Vi8+yh3+VS7hs2j3JzJ2CvNdXuZ9iUzJvL94I3//szVzvQGNlEfaccU/vFqe4Kj/p//i87/x6K+M93aRuHUc++43Q+t46vPhK8H6Ukd6HAhnHWjD9oVQk/9Uk1+us4kb6XgTZUb9tKYp89zOfY9F2YBFydoaau+TzN63v5Yh19e051pPjLfxnu//6M/9jt1Qcu7XuX/Sc7zY5lI/yD13FbnLg/PHm0OeeUUrevxRMtyYhcZwZZpPvd+RE81trsOb16HkAJrr7gH3Z6f+EYcwg3BHqqcYEA4b73e/7Du09zdkZaQc68Y0sul3H5VeD35INPvRO8BVNjAvSvMGXvQHl2aIyX1+M8t21aDzuE3z1Yw2eR86MMA5vFOvVgyHMiZP6szoUH1A7WgNxP16Cea6Irave3occXzShdncpNr4kAqPFMoGqmuRTXDwnP53lnyz0rLc1a8y4VFkKLXmMeqA7cfniTQQK48Q2kMWbVweb+rThSDMs4fLuhXLOu02MRmPw70JzCBN8KS41o/7tChSvdyfLnfv8Rp+k0gYkPpYVNkH1QBLdAdiv2nEh4KnG+J+oyWW6Mj0zBHfIslsHLvyHLN4yV3DxS1l0GYzRz4TqlzYYJr6CKKKs8WrqQHe+Hu13xYlKLSbg1mQ/4Thh86S8MP8wXZaIxL6xexfq1KSDBgueWhk8vYre+5Argeq6/Z6ErhiT6J9e5YNPocZnhruTupHXywzr3Z4rLZwP1W1sqNE/2AuUnBDRfpENNvXuSRwmhcm7F9Ihmyf1h+lua+h1iIRLDdibX4p6tc40jsGkKbIcBaI7AMMlnD7lfwd2+AOm4O9bTBDTZwW8qLHpKj7s5Rdah3cVv//EP3VG/Kwxmu95VDL/L39rItY3TETehxOQ9+5YHRMKDnQdcAb0EfRnRsaUXq/SesfhWjTJStJgSUVWuPfhTctC4bYC1yPn3U4LQP1UE0r3e/tQGqf9FMuD7R8R3IeMY1Mxb0UeCktKNF6nIznOe9OrdOkkXoPGz2QENjIJT4Z5m4Rxdhamq3nDbMdQ3SWxqB0O9X/FJyFdc/0sWP6ImgA2Mho/POsNbmdkhq7TjRko/LVMx1O2KiC9xx4cOyW3Sfx0ZGrmV5OM85C7rRB52elIDkwtMcqK9MWrULBtBwoWh5pPA1rVVBZiqxgi1zTY50V5AAbUve7w7LguQwyYWnA3nl5ihPtYG4zxz8Uh+xf+fb+UW31nD1zw/9tb5OyOr9Hi+8qiEcPw+L+LdXjON0P+EExdm4C/WeLN/D9o2G3A+W/8+vpQzzW0qNeMRiRO08pIb0TS86sws5/GX0olWfWR7HBtMCNtXYgX8Cp94v42DZZxSa4nnlbN67crTd31Tjlq1Vf1IA7TF6UHucUWuX3I8VAq5s+0wmI2Y+oc7Rd2G2emYJJ6U6PNFpD81YGqmmOyDjfA8nQBspI0FuieTBQsSpLr5EDju1VB8oaJAFN9PZjYBikvZqHL7IxJmFeQi1Q1kIuUo1WoU7f/SCsyC9I1tkks0taK7SqjP/uZuoD8k8o28Wa3t2YVhHj5uPLOyPlIHmeB9YlMrHghIOwzpyDtqRQkjYtD0o9XaX/X92TBOlaWnW34Y9d3ZA9YUR+AKW3nB/c7/TPcjzAgacVdyG5QWop+gMUrRyI+4Aqs/eM/Y3+VHLnVzl/E7h3+73l0rcPKsVj5+wmulq71DeMw55mhGO77xOO1a/j9+j/LEbpRjkONaJZ1n2nGP2LHeiXBq/pgtZpxvwwFsxJFBaNW0P2PbVc5ajzvw7Ni+c7XULhCXPlOdj/qr3SCTl2ch5JXfB5IsNdjT1n0dKqNXjZU/LLec/vKmJSGrCAvdY/YPrT7t2iSTW7KC7sLXsnDvBmJnnQGsROSMW9tCcpWyIcIRNjXfHhP12TXH2zHG0flZbQhEWk/K8MWZXnk8askUk5dXIAdG7wvEHeeegtFb6vtfb4ceOs/m2TwoixXGgqU9VudhSw1EfPOAmQkmeA42nBz6SK6ENt/R423HkoSAePOQmQ9ZoHZtWHNsDwmpr1ShqwpMhJyNuHgK0HeR/BBMSp8tkn6pkqUvCTqtCly+yod6WcvR6FYF/VF28o7cGtfC3iHyPE9OKZ+bcp3/coW7/IIru86uxCvbUiDWQ0Ijx3EXncxKjAAE07//Eu8W9vhH4Rpcr/o+vVse59o/VLZ/+0LvPmra2gPTL0Rc5u7pSvQNScaC1rw7i2/hToAnKtA+Tvq4/gGxE1RAq5dXTPui0qq5sP+HIw0oeLlYtSqV/lDTbDMzETuphJUinWt3F6I5U9ZYVZbHBxN2FtYxBbWaHFUBFeelzbHIfnZzCB9iCK1D9WgaFc97LK+M8RbkbF2C3a5jjkl/14uMmZ4c4C53nIR9Ok6B2o3FaFC7QgeY0Sisjzy+FXy+C1/Kglxapxxphr5uXs9QVYgx9tiXmrwolDW7+E0pPnmAbxUj4ptvVAPnKpAfnkdWuWmNYyyIG1ZIUoqlbxoJShcprx6SV0RG2qLN2Bv0BWR2+S4d5uYp4k6bb3cvju3IHdpKiyj1Hm1oq48HxVdbsnaUF5S7XlVkfL6Js/yqN/1ExaoD0Iq27aoKLpqCwZgLh34fe5nKP0nO05/dl1O6+rb1mto3Hwe/xLkRdd9wenN51C27CIaT3R2SRjr0XkdFz6y482Fn+PNd0K8dol6pGnXGmSX1cLm6cvgz6m8a26jqKS0au7+wlGP0pXZKH6nCa1a69Jph+1wFfKz16HqFr1km24FB6orj3hawQzjU5E1Ww2BfERoH3IcKkLOz6tQfy7EpbDdhvqwSZabUJ2fg/zK+q75xFQyWfPStSFeTu2iBC+rxbo1e4JDDyU9zVGxTiuLQr9Y+yY4DhXjxWXFqDmjvU3sZ2pQvCwHpRoJc93ENlkfZpuI9Wk9qczrRRQf0piX8jL0FWJ5TrbCoXVOcrSi6Z1iZIfdtgNPn88DdkskDMPk+wyIv3+oiM47ceF37Wg5ewWnT8jf9wtDMHGWWId7jbhjBPDNWQfO/9GJxjrfzmK965blAbvFlNsfP37oPsQpD6N2tOKTj36L+jPdz8zWnyi3aCZNtuI+pYngq2Ycafw0bL4mIl8R2YeUW2wTJiFpWiK+L0b//PkRcSHajKYver4n+i6Ps/UTNJz8FI03dPwaYZ6cKFt4upEjK9L8tokTrSeOoOEG0+IotwsT703C9LvF1lXqtD804tMer08sEqeI5fkrd914c9t2YGAARr0mWgMwIiKicHgLkoiIiEhnDMCIiIiIdMYAjIiIiEhnDMCIiIiIdMYAjIiIiEhnDMCIiIiIdMYAjIiIiEhnDMCIiIiIdMYAjIiIiEhnDMCIiIiIdMYAjIiIiEhnDMCIiIiIdMYAjIiIiEhnDMCIiIiIdMYAjIiIiEhnDMCIiIiIdMYAjIiIiEhnDMCIiIiIdMYAjIiIiEhnEQvArqNTloi4PxAREYUSsQDsSmeLLBFxfyAiIgolYgFYi/O/ZImI+wMREVEoEQvATrf/RpaIuD8QERGFErEArK3jBD795m05RtFM2Q+U/YGIiIiCi1gApvjoSjFszqNyjKKR8v0r+wERERFpi2gApvjN5Vy2hEUp5XtXvn8iIiIK7Taz2fydLEfUmMH3YuLQnyDecD9GxMSLSC9G/oYGCiXVhPK0o9LhXunzxduORERE3dNrARgRERERBRfxW5BEREREFBoDMCIiIiKdMQAjIiIi0hkDMCIiIiKdMQAjIiIi0hkDMCIiIiKdMQAjIiIi0hkDMCIiIiKdMQAjIiIi0hkDMCIiIiKdMQAjIiIi0hkDMCIiIiKdMQAjIiIi0hXwv8cyUdG7/jsRAAAAAElFTkSuQmCC)"
      ]
    },
    {
      "cell_type": "markdown",
      "metadata": {
        "id": "PcyY5kLRkMDc"
      },
      "source": [
        "Is a manual text input required in the summary table (as a note for the benchmark selection?)\n",
        "\n",
        "> Add blockquote\n",
        "\n"
      ]
    },
    {
      "cell_type": "markdown",
      "metadata": {
        "id": "VwTV7_Ztua92"
      },
      "source": [
        "Add callback to store benchmarks from previous selections and be able to rewrite it (avoid repeated rows for the same sku)"
      ]
    },
    {
      "cell_type": "markdown",
      "metadata": {
        "id": "akZRyQMd8tGI"
      },
      "source": [
        "Data Upload: allow the user to upload csv or excel sheet"
      ]
    },
    {
      "cell_type": "markdown",
      "metadata": {
        "id": "f-P7gtvtGEx1"
      },
      "source": [
        "# .py\n"
      ]
    },
    {
      "cell_type": "code",
      "execution_count": null,
      "metadata": {
        "id": "F2j30mm7GHin"
      },
      "outputs": [],
      "source": [
        "from dash import dash, dcc, html, Input, Output, callback, dash_table, no_update, ctx\n",
        "import plotly.express as px\n",
        "import json\n",
        "import dash\n",
        "import numpy as np\n",
        "import pandas as pd\n",
        "from dash.dependencies import Input, Output, State\n",
        "import dash_bootstrap_components as dbc\n",
        "from dash import no_update, callback_context\n",
        "from sklearn.preprocessing import OneHotEncoder\n",
        "from sklearn.decomposition import PCA\n",
        "from sklearn.metrics.pairwise import cosine_similarity\n",
        "from dash.exceptions import PreventUpdate\n",
        "\n",
        "dash.register_page(__name__)\n",
        "\n",
        "category_dropdown = dcc.Dropdown(\n",
        "                                id='category-dropdown',\n",
        "\n",
        "                                placeholder=\"Select a product category\",\n",
        "                                options=[],\n",
        "\n",
        "                                style={'width':'100%'})\n",
        "\n",
        "def create_sku_details_card(sku_info):\n",
        "    # Assuming 'URL_PICTURE' is the column name for the image URLs\n",
        "    img_url = sku_info.get('URL_PICTURE', 'https://via.placeholder.com/150')\n",
        "    return dbc.Card(\n",
        "        [\n",
        "            dbc.CardImg(src=img_url, top=True, style={'width': '100%', 'height': 'auto'}),\n",
        "            dbc.CardBody([\n",
        "                html.H5(sku_info.get('MODEL', 'N/A'), className=\"card-title\"),\n",
        "                html.P(f\"SKU: {sku_info.get('SKU', 'N/A')}\"),\n",
        "                html.P(f\"Family: {sku_info.get('FAMILY', 'N/A')}\"),\n",
        "                html.P(f\"Sub Family: {sku_info.get('SUB_FAMILY', 'N/A')}\"),\n",
        "                html.P(f\"Main Color: {sku_info.get('MAIN_COLOR', 'N/A')}\"),\n",
        "                html.P(f\"Main Material: {sku_info.get('MAIN_MATERIAL', 'N/A')}\"),\n",
        "                dbc.Row([\n",
        "                    dbc.Col(dbc.Button('Previous',color='warning', id='previous_button', n_clicks=0), md=8),\n",
        "                    dbc.Col(dbc.Button('Next',color='success', id='next_button', n_clicks=0 ), md=2)\n",
        "                ])\n",
        "\n",
        "            ]),\n",
        "        ],\n",
        "        className=\"mb-3\", style={'height':'20%'}, id='SKU_card'\n",
        "    )\n",
        "\n",
        "\n",
        "\n",
        "search_row = dcc.Dropdown(id=\"search_SKU\", searchable=True, options=[], style={'color': 'black'})\n",
        "\n",
        "\n",
        "\n",
        "\n",
        "\n",
        "# Define the column structure for the DataTable\n",
        "benchmark_details_columns = [\n",
        "    {'name': 'Benchmark SKU', 'id': 'SKU'},  # SKU of the benchmark item\n",
        "    {'name': 'URL Picture', 'id': 'URL_PICTURE', 'presentation': 'markdown'},  # Image URLs for the benchmark items\n",
        "    {'name': 'Season', 'id': 'SEASON'},  # Season information for the benchmark items\n",
        "    {'name': 'Main Color', 'id': 'MAIN_COLOR'},  # Main color of the benchmark items\n",
        "    {'name': 'Similarity Score', 'id': 'Similarity Score'}  # Similarity score from the model\n",
        "]\n",
        "\n",
        "# Create a Dash DataTable to display the benchmarks\n",
        "benchmark_details_table = dash_table.DataTable(\n",
        "    id='benchmark-details-table',\n",
        "    columns=benchmark_details_columns,\n",
        "    data=[],  # Data will be populated by a callback\n",
        "    style_table={'overflowX': 'auto', 'overflowY': 'auto', 'height':'500px'},\n",
        "    style_cell={'textAlign': 'center', 'padding': '5px'},\n",
        "    style_header={'fontWeight': 'bold', 'backgroundColor': 'rgb(210, 210, 210)'},\n",
        "    page_size=7,  # Number of rows to display per page\n",
        "    row_selectable='multi',\n",
        "    selected_rows=[]\n",
        "\n",
        "\n",
        ")\n",
        "\n",
        "# Define the columns for the benchmarks summary table\n",
        "benchmark_summary_columns = [\n",
        "    {'name': 'Similar SKUs', 'id': 'SKU'},\n",
        "    {'name': 'SKU Description', 'id': 'SKU_DESCRIPTION'}\n",
        "\n",
        "]\n",
        "\n",
        "# Add a dash DataTable for displaying the summary of stored benchmarks\n",
        "benchmarks_summary_table = dash_table.DataTable(\n",
        "    id='benchmarks-summary-table',\n",
        "    columns=benchmark_summary_columns,\n",
        "    data=[],  # Initially empty, will be populated by callback\n",
        "    style_table={'overflowX': 'auto'},\n",
        "    style_cell={'textAlign': 'left', 'padding': '5px'},\n",
        "    style_header={'fontWeight': 'bold'}\n",
        ")\n",
        "\n",
        "sku_dropdown = dcc.Dropdown(\n",
        "    id='sku-dropdown',\n",
        "    placeholder=\"Select a SKU\",\n",
        "    className=\"mb-2\"\n",
        ")\n",
        "\n",
        "\n",
        "\n",
        "\n",
        "\n",
        "layout = html.Div([\n",
        "\n",
        "\n",
        "    html.H2(\"Product Benchmarking Dashboard\", style={'margin':'2rem'}),\n",
        "    dbc.Container([\n",
        "\n",
        "\n",
        "\n",
        "        dbc.Row([\n",
        "\n",
        "                dbc.Col([\n",
        "\n",
        "\n",
        "\n",
        "                    html.Div([\n",
        "\n",
        "                        category_dropdown,\n",
        "\n",
        "                    ], n_clicks=0, id='update_categories_on_click', style={'margin':'2px'}),\n",
        "\n",
        "                    html.Div(search_row, style={'margin':'2px'}),\n",
        "                    html.Div(id='sku-details-card', className=\"mb-3\"),\n",
        "\n",
        "                ], md='3'),\n",
        "\n",
        "                dbc.Col([\n",
        "                    dbc.Row([\n",
        "                        dbc.Col([\n",
        "\n",
        "\n",
        "\n",
        "                        ]),\n",
        "                        dbc.Col([\n",
        "                            html.Button(\"Download Selected Benchmarks\", id=\"btn-download\")\n",
        "                        ], width=6)\n",
        "                    ]),\n",
        "\n",
        "                    dbc.Row([dbc.Col(benchmark_details_table, width=12)]),  # Place the benchmark details table here\n",
        "                    dbc.Row([dbc.Col(benchmarks_summary_table, width=12)], className=\"mt-4\")\n",
        "                ], md='9')\n",
        "        ]),\n",
        "\n",
        "\n",
        "\n",
        "\n",
        "        # Dynamic Components\n",
        "\n",
        "        html.Div(id='selected-data'),\n",
        "        html.Div(id='temporary-benchmarks-table'),\n",
        "\n",
        "\n",
        "\n",
        "        # Download\n",
        "        dcc.Download(id=\"download-selected-data\")\n",
        "    ])\n",
        "])\n",
        "\n",
        "\n",
        "\n",
        "@callback(\n",
        "\n",
        "    Output('search_SKU', 'options'),\n",
        "    Input('category-dropdown', 'value'),\n",
        "    State('preprocessed-data', 'data')\n",
        ")\n",
        "def update_dropdown_searchSKU(category, preprocessed_data):\n",
        "\n",
        "    if category is None:\n",
        "        return no_update\n",
        "\n",
        "    df = pd.DataFrame(preprocessed_data)\n",
        "    df = df[df['ACTIVITY'] == category]\n",
        "\n",
        "    return df['SKU'].unique()\n",
        "\n",
        "\n",
        "\n",
        "\n",
        "\n",
        "\n",
        "\n",
        "@callback(\n",
        "    [\n",
        "        Output('sku-details-card', 'children'),  # Update the SKU details card\n",
        "        Output('selected-sku-store', 'data')     # Store the selected SKU\n",
        "    ],\n",
        "    [Input('search_SKU', 'value')],\n",
        "    [State('preprocessed-data', 'data')]\n",
        ")\n",
        "\n",
        "def update_sku_details(search_query, preprocessed_data):\n",
        "    if not preprocessed_data:\n",
        "        return \"Please upload data first.\", no_update\n",
        "\n",
        "\n",
        "    selected_sku = search_query\n",
        "\n",
        "    if not selected_sku:\n",
        "        return \"Please select a SKU to see details.\", no_update\n",
        "\n",
        "    df_preprocessed = pd.DataFrame(preprocessed_data)\n",
        "\n",
        "    if 'SKU' in df_preprocessed.columns and selected_sku in df_preprocessed['SKU'].values:\n",
        "        sku_info = df_preprocessed[df_preprocessed['SKU'] == selected_sku].iloc[0].to_dict()\n",
        "        card_content = create_sku_details_card(sku_info)  # Use the adjusted function\n",
        "        return card_content, selected_sku\n",
        "    else:\n",
        "        return \"SKU details not found. Please select a different SKU.\", no_update\n",
        "\n",
        "\n",
        "@callback(\n",
        "    Output('benchmark-details-table', 'data'),  # Output: data for the DataTable displaying benchmark details\n",
        "    [Input('selected-sku-store', 'data'),      # Input: SKU selected from a dropdown\n",
        "     Input('similarity-matrix-store', 'data')],\n",
        "    [State('preprocessed-data', 'data'),\n",
        "     State('similarity_matrix_sku_list', 'data')]\n",
        ")\n",
        "\n",
        "def generate_benchmarks(selected_sku_data, similarity_matrix, preprocessed_data, similarity_sku_list):\n",
        "    if not selected_sku_data or not similarity_matrix or not preprocessed_data:\n",
        "        return []\n",
        "\n",
        "    print('Selected SKU:',selected_sku_data)\n",
        "    df = pd.DataFrame(preprocessed_data)\n",
        "    similarity_matrix = np.array(similarity_matrix)\n",
        "    sku_index = df[df['SKU'] == selected_sku_data].index[0]\n",
        "    print('The SKU index is :',sku_index)\n",
        "\n",
        "    top_indices = np.argsort(similarity_matrix[sku_index])[::-1][1:41]  # Skip the first index because it's the SKU itself\n",
        "\n",
        "    print(top_indices)\n",
        "\n",
        "    benchmarks = df.iloc[top_indices].copy()\n",
        "    benchmarks['Similarity Score'] = similarity_matrix[sku_index][top_indices]\n",
        "    benchmarks['URL_PICTURE'] = '![NA](' + benchmarks['URL_PICTURE'].astype(str) + ')'\n",
        "\n",
        "\n",
        "    return benchmarks.to_dict('records')\n",
        "\n",
        "\n",
        "\n",
        " # Triggered by Category Selection E.g. ACCESORIES\n",
        " #One Hot Encoding preprocessed data, weighting, Applying PCA, Calculate cosine similarity from PCA features & Applying get_benchmarks() function\n",
        "\n",
        "@callback(\n",
        "    [Output('similarity-matrix-store', 'data'),\n",
        "     Output('similarity_matrix_sku_list', 'data')],  # Store the similarity matrix\n",
        "    Input('category-dropdown', 'value'),  # Triggered by category selection\n",
        "    State('preprocessed-data', 'data')  # Uses preprocessed data as a state\n",
        ")\n",
        "\n",
        "def compute_similarity_matrix(selected_category, preprocessed_data):\n",
        "    if not preprocessed_data or not selected_category:\n",
        "        return no_update\n",
        "\n",
        "    # Convert preprocessed data into DataFrame\n",
        "    df = pd.DataFrame(preprocessed_data)\n",
        "\n",
        "    # Filter data based on selected category\n",
        "    if selected_category:\n",
        "        df = df[df['ACTIVITY'] == selected_category]\n",
        "        if df.empty:\n",
        "            return no_update  # Return if no data is available for the selected category\n",
        "\n",
        "    # Define categorical features based on the DataFrame's columns or fixed list\n",
        "    categorical_features = ['FAMILY', 'GENDER', 'MACRO_AESTHETIC_LINE', 'MAIN_COLOR', 'MATERIAL_GROUP', 'SEASONALITY', 'REAL_MONTH']\n",
        "    df[categorical_features] = df[categorical_features].astype(str)\n",
        "\n",
        "    # Initialize OneHotEncoder\n",
        "    one_hot_encoder = OneHotEncoder(sparse_output=False)\n",
        "    encoded_features = one_hot_encoder.fit_transform(df[categorical_features])\n",
        "\n",
        "\n",
        "\n",
        "    # Create a DataFrame from the encoded features, adding back the SKU\n",
        "    encoded_df = pd.DataFrame(encoded_features, columns=one_hot_encoder.get_feature_names_out(categorical_features), index=df.index)\n",
        "    encoded_df['SKU'] = df['SKU']  # Add the SKU as a column to the encoded features DataFrame\n",
        "\n",
        "    # Dynamic weights based on selected category\n",
        "    if selected_category == 'ACCESSORIES':\n",
        "        weights = np.array([10, 1, 1, 5, 1, 1, 1])  # Adjusted weights for ACCESSORIES\n",
        "    elif selected_category == 'LEATHER GOODS':\n",
        "        weights = np.array([5, 2, 2, 1, 10, 2, 1])  # Adjusted weights for LEATHER GOODS\n",
        "    else:\n",
        "        weights = np.array([1, 1, 1, 1, 1, 1, 1])  # Default weights if category is not recognized\n",
        "\n",
        "    # Calculate the repetition of weights according to unique categories\n",
        "    unique_values_counts = [one_hot_encoder.categories_[i].size for i in range(len(categorical_features))]\n",
        "    repeated_weights = np.repeat(weights, unique_values_counts)\n",
        "\n",
        "    # Apply weights\n",
        "    weighted_encoded_features = encoded_df.iloc[:, :-1] * repeated_weights  # Exclude 'SKU' from weighting\n",
        "    weighted_encoded_df = pd.concat([encoded_df[['SKU']], weighted_encoded_features], axis=1)\n",
        "\n",
        "    # Apply PCA\n",
        "    pca = PCA(n_components=0.95)\n",
        "    sku_list = weighted_encoded_df['SKU'].to_list()\n",
        "    pca_features = pca.fit_transform(weighted_encoded_df.drop('SKU', axis=1))\n",
        "\n",
        "    # Calculate cosine similarity from PCA features\n",
        "    similarity_matrix_pca = cosine_similarity(pca_features)\n",
        "\n",
        "    return similarity_matrix_pca.tolist(), sku_list  # Storing as list for JSON compatibility\n",
        "\n",
        "\n",
        "\n",
        "\n",
        "\n",
        "\n",
        "\n",
        "\n",
        "\n",
        "@callback(\n",
        "    Output('category-dropdown', 'options'),  # Store the similarity matrix\n",
        "    Input('update_categories_on_click', 'n_clicks'),  # Triggered by category selection\n",
        "    State('category-options', 'data')\n",
        ")\n",
        "def update_category_list(n_click, data):\n",
        "    if n_click != 0:\n",
        "        return data\n",
        "\n",
        "    return {}\n",
        "\n",
        "\n",
        "@callback(\n",
        "\n",
        "    [Output('stored-selected-rows', 'data'),\n",
        "     Output('benchmarks-summary-table', 'data')],\n",
        "    Input('benchmark-details-table', 'selected_rows'),\n",
        "    [State('selected-sku-store', 'data'),\n",
        "     State('benchmark-details-table', 'data')]\n",
        "\n",
        ")\n",
        "def save_selected_benchmarks(selected_row_indices, target_SKU, benchmark_detials_table):\n",
        "\n",
        "    df = pd.DataFrame(benchmark_detials_table)\n",
        "\n",
        "    if selected_row_indices:\n",
        "        df = df.loc[selected_row_indices]\n",
        "        df['target_SKU'] = target_SKU\n",
        "\n",
        "        return df.to_dict('records'), df.to_dict('records')\n",
        "\n",
        "    return no_update\n",
        "\n",
        "\n",
        "\n",
        "\n",
        "\n",
        "\n",
        "\n",
        "\n",
        "@callback(\n",
        "        Output('search_SKU', 'value'),\n",
        "        [Input('next_button', 'n_clicks'),\n",
        "         Input('previous_button', 'n_clicks')],\n",
        "        [State('search_SKU', 'options'),\n",
        "         State('selected-sku-store', 'data')]\n",
        ")\n",
        "def next_prev_button_action(n_clicks_next, n_clicks_prev,list_options, current_sku):\n",
        "\n",
        "    if n_clicks_next == 0 and n_clicks_prev == 0:\n",
        "        return dash.no_update\n",
        "\n",
        "    button_clicked = ctx.triggered_id\n",
        "\n",
        "\n",
        "\n",
        "    try:\n",
        "        current_index = list_options.index(current_sku)\n",
        "\n",
        "\n",
        "        if button_clicked == 'next_button' and current_index < len(list_options)-1:\n",
        "            return list_options[current_index + 1]\n",
        "        elif button_clicked == 'previous_button' and current_index > 0:\n",
        "                return list_options[current_index - 1]\n",
        "\n",
        "        return dash.no_update\n",
        "\n",
        "    except (ValueError, IndexError):\n",
        "        # ValueError if the current_value is not in the list,\n",
        "        # IndexError if trying to access beyond the list\n",
        "\n",
        "        return dash.no_update\n",
        "\n",
        "\n",
        "\n",
        "\n",
        "\n",
        "@callback(\n",
        "\n",
        "    [Output('next_button', 'color'),\n",
        "     Output('previous_button', 'color')],\n",
        "    Input('SKU_card', 'children'),\n",
        "    [State('search_SKU', 'value'),\n",
        "     State('search_SKU', 'options')]\n",
        "\n",
        ")\n",
        "def check_for_button_color(sku_card, current_sku, sku_options_list):\n",
        "\n",
        "    current_index = sku_options_list.index(current_sku)\n",
        "\n",
        "    if current_index == len(sku_options_list)-1:\n",
        "        return 'secondary', 'warning'\n",
        "    elif current_index == 0:\n",
        "        return 'success', 'secondary'\n",
        "    else:\n",
        "        return 'success', 'warning'"
      ]
    }
  ],
  "metadata": {
    "colab": {
      "collapsed_sections": [
        "3hEBsRohUPHy",
        "RUHahpahT7lL",
        "1u0QEN6cbdB0",
        "o6zQGpkDTGIs",
        "TbZa5p-nUvpm",
        "IbsuzRqiRnWP",
        "8psAEaJPTqV7"
      ],
      "provenance": [],
      "toc_visible": true
    },
    "kernelspec": {
      "display_name": "Python 3",
      "name": "python3"
    },
    "language_info": {
      "codemirror_mode": {
        "name": "ipython",
        "version": 3
      },
      "file_extension": ".py",
      "mimetype": "text/x-python",
      "name": "python",
      "nbconvert_exporter": "python",
      "pygments_lexer": "ipython3",
      "version": "3.11.9"
    }
  },
  "nbformat": 4,
  "nbformat_minor": 0
}
