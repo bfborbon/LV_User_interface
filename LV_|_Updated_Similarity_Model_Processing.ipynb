{
  "nbformat": 4,
  "nbformat_minor": 0,
  "metadata": {
    "colab": {
      "provenance": [],
      "authorship_tag": "ABX9TyPrJPxfK2qVer9sbHxIg5LF",
      "include_colab_link": true
    },
    "kernelspec": {
      "name": "python3",
      "display_name": "Python 3"
    },
    "language_info": {
      "name": "python"
    }
  },
  "cells": [
    {
      "cell_type": "markdown",
      "metadata": {
        "id": "view-in-github",
        "colab_type": "text"
      },
      "source": [
        "<a href=\"https://colab.research.google.com/github/bfborbon/LV_User_interface/blob/main/LV_%7C_Updated_Similarity_Model_Processing.ipynb\" target=\"_parent\"><img src=\"https://colab.research.google.com/assets/colab-badge.svg\" alt=\"Open In Colab\"/></a>"
      ]
    },
    {
      "cell_type": "code",
      "execution_count": null,
      "metadata": {
        "id": "VYx0IP_Uqivs"
      },
      "outputs": [],
      "source": [
        "from datetime import datetime\n",
        "\n",
        "def preprocess_data(df):\n",
        "    # Assuming 'LAUNCHING_YEAR' is already a column or extracted from 'SEASONALITY'\n",
        "    current_year = datetime.now().year\n",
        "    cutoff_year = current_year - 3\n",
        "\n",
        "    # Define the specific seasons to include\n",
        "    seasons = ['ARCHIVE', 'CASQUE DAMIER', 'LV CUP', 'OLD', 'OLD PERMANENT',\n",
        "               'PERMANENT', 'PERMANENT WINTER', 'RTW FASHION', 'SPECIAL ORDER']\n",
        "\n",
        "    # Filter based on 'SEASONALITY' and launching year\n",
        "    df_filtered = df[(df['SEASONALITY'].isin(seasons)) & (df['LAUNCHING_YEAR'] >= cutoff_year)]\n",
        "\n",
        "    # Extracting and preprocessing 'REAL_MONTH' from 'LAUNCH_MONTH'\n",
        "    df['REAL_MONTH'] = df['LAUNCH_MONTH'].str[-2:].where(df['LAUNCH_MONTH'].notna())\n",
        "    df['REAL_MONTH'] = df['REAL_MONTH'].astype(float).astype('Int64').astype('object')  # Converting to object to treat as categorical\n",
        "\n",
        "    # Filling missing values for categorical columns with 'Unknown'\n",
        "    categorical_columns = ['FAMILY', 'GENDER', 'MACRO_AESTHETIC_LINE', 'MAIN_COLOR', 'MATERIAL_GROUP', 'SEASONALITY', 'REAL_MONTH', 'ACTIVITY']\n",
        "    for col in categorical_columns:\n",
        "        df[col] = df[col].fillna('Unknown')\n",
        "\n",
        "    # Handling numerical columns with specific logic, if there are any\n",
        "    # For example, 'LAUNCHING_YEAR'\n",
        "    df['LAUNCHING_YEAR'] = pd.to_numeric(df['LAUNCHING_YEAR'], errors='coerce').fillna(0).astype(int)\n",
        "\n",
        "    # Combining all relevant columns for the model\n",
        "    model_columns = ['SKU', 'LAUNCHING_YEAR'] + categorical_columns + ['URL_PICTURE']\n",
        "    df_model = df[model_columns].copy()\n",
        "\n",
        "    # Proceed with further preprocessing steps as needed (e.g., One-Hot Encoding)\n",
        "    # The following steps would depend on the specifics of your model requirements\n",
        "\n",
        "    return df_model\n"
      ]
    }
  ]
}